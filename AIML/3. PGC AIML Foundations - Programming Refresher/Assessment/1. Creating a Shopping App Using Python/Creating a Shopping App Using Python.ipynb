{
 "cells": [
  {
   "cell_type": "code",
   "execution_count": 3,
   "id": "054f3c54-a2b4-456b-b567-b161470a21d9",
   "metadata": {},
   "outputs": [],
   "source": [
    "def display_welcome_message():\n",
    "    print(\"Welcome to the Demo Marketplace!\")"
   ]
  },
  {
   "cell_type": "code",
   "execution_count": 4,
   "id": "97571de0-23b0-43d4-b1d7-b1ae98591115",
   "metadata": {},
   "outputs": [
    {
     "name": "stdout",
     "output_type": "stream",
     "text": [
      "Welcome to the Demo Marketplace!\n"
     ]
    }
   ],
   "source": [
    "display_welcome_message()"
   ]
  },
  {
   "cell_type": "code",
   "execution_count": null,
   "id": "e25d0e0b-895f-4dd3-983f-81586eebc87c",
   "metadata": {},
   "outputs": [],
   "source": []
  }
 ],
 "metadata": {
  "kernelspec": {
   "display_name": "Python 3 (ipykernel)",
   "language": "python",
   "name": "python3"
  },
  "language_info": {
   "codemirror_mode": {
    "name": "ipython",
    "version": 3
   },
   "file_extension": ".py",
   "mimetype": "text/x-python",
   "name": "python",
   "nbconvert_exporter": "python",
   "pygments_lexer": "ipython3",
   "version": "3.11.6"
  }
 },
 "nbformat": 4,
 "nbformat_minor": 5
}
