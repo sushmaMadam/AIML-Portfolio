{
 "cells": [
  {
   "cell_type": "code",
   "execution_count": 82,
   "id": "d4e3833b-2f20-44cc-a0a1-e3fdde1065a2",
   "metadata": {},
   "outputs": [
    {
     "name": "stdout",
     "output_type": "stream",
     "text": [
      "Welcome to the Demo Marketplace\n"
     ]
    }
   ],
   "source": [
    "print(\"Welcome to the Demo Marketplace\")"
   ]
  },
  {
   "cell_type": "code",
   "execution_count": 344,
   "id": "6b3a1bdc-8d00-46ce-b333-4840d9233da8",
   "metadata": {},
   "outputs": [],
   "source": [
    "# Demo databases for user and admin\n",
    "user_database = {\n",
    "    'user1': {'password': 'pass1'},\n",
    "    'user2': {'password': 'pass2'},\n",
    "    'user3': {'password': 'pass3'}\n",
    "}\n",
    "\n",
    "admin_database = {\n",
    "    'admin': {'password': 'adminpass'}\n",
    "}"
   ]
  },
  {
   "cell_type": "code",
   "execution_count": 345,
   "id": "51f45d17-e9ee-43af-a43d-71fe7aab6520",
   "metadata": {},
   "outputs": [
    {
     "data": {
      "text/plain": [
       "{'user1': {'password': 'pass1'},\n",
       " 'user2': {'password': 'pass2'},\n",
       " 'user3': {'password': 'pass3'}}"
      ]
     },
     "execution_count": 345,
     "metadata": {},
     "output_type": "execute_result"
    }
   ],
   "source": [
    "user_database"
   ]
  },
  {
   "cell_type": "code",
   "execution_count": 346,
   "id": "d5ce2c49-7afd-4445-83cd-94573a02b957",
   "metadata": {},
   "outputs": [
    {
     "data": {
      "text/plain": [
       "{'admin': {'password': 'adminpass'}}"
      ]
     },
     "execution_count": 346,
     "metadata": {},
     "output_type": "execute_result"
    }
   ],
   "source": [
    "admin_database"
   ]
  },
  {
   "cell_type": "code",
   "execution_count": 347,
   "id": "e34badc9-6b06-4317-9fec-30f7e80c5a6e",
   "metadata": {},
   "outputs": [],
   "source": [
    "# Function to create a session ID\n",
    "def create_session_id():\n",
    "    return secrets.token_hex(16)"
   ]
  },
  {
   "cell_type": "code",
   "execution_count": 348,
   "id": "55e604af-2a15-4a21-a969-9fda1e5c89cb",
   "metadata": {},
   "outputs": [],
   "source": [
    "# Function to perform user login\n",
    "def user_login(username, password):\n",
    "    if username in user_database and user_database[username]['password'] == password:\n",
    "        return True\n",
    "    else:\n",
    "        return False"
   ]
  },
  {
   "cell_type": "code",
   "execution_count": 349,
   "id": "ef164ed4-7059-4850-8806-41e6d13726a6",
   "metadata": {},
   "outputs": [],
   "source": [
    "# Function to perform admin login\n",
    "def admin_login(username, password):\n",
    "    if username in admin_database and admin_database[username]['password'] == password:\n",
    "        return True\n",
    "    else:\n",
    "        return False"
   ]
  },
  {
   "cell_type": "code",
   "execution_count": 350,
   "id": "b2acd3e9-fafd-40c7-92b3-bc0ce8357954",
   "metadata": {},
   "outputs": [],
   "source": [
    "# Sample product catalog\n",
    "product_catalog = {\n",
    "    '1':{'name': 'Hiking Boots', 'category': 'Boots', 'price': 2000},\n",
    "    '2':{'name': 'Winter Coat', 'category': 'Coats', 'price': 4000},\n",
    "    '3':{'name': 'Leather Jacket', 'category': 'Jackets', 'price': 3500},\n",
    "    '4':{'name': 'Baseball Cap', 'category': 'Caps', 'price': 1000},\n",
    "}"
   ]
  },
  {
   "cell_type": "code",
   "execution_count": 317,
   "id": "4dd88142-5212-424f-ade2-ff483e9f7828",
   "metadata": {},
   "outputs": [
    {
     "data": {
      "text/plain": [
       "{'1': {'name': 'Hiking Boots', 'category': 'Boots', 'price': 2000},\n",
       " '2': {'name': 'Winter Coat', 'category': 'Coats', 'price': 4000},\n",
       " '3': {'name': 'Leather Jacket', 'category': 'Jackets', 'price': 3500},\n",
       " '4': {'name': 'Baseball Cap', 'category': 'Caps', 'price': 1000}}"
      ]
     },
     "execution_count": 317,
     "metadata": {},
     "output_type": "execute_result"
    }
   ],
   "source": [
    "product_catalog"
   ]
  },
  {
   "cell_type": "code",
   "execution_count": 351,
   "id": "a34467a0-8b77-4746-b209-0b638c9f9f91",
   "metadata": {},
   "outputs": [],
   "source": [
    "def display_product_catalog():\n",
    "    print(\"\\nProduct Catalog:\")\n",
    "    print(\"=\" * 47)\n",
    "    print(\"ID   | Name              | Category | Price\")\n",
    "    print(\"=\" * 47)\n",
    "    for product_id, product_info in product_catalog.items():\n",
    "        print(f\"{product_id:<4} | {product_info['name']:<17} | {product_info['category']:<8} | {product_info['price']:.2f}\")\n",
    "        print('-'*47)"
   ]
  },
  {
   "cell_type": "code",
   "execution_count": 326,
   "id": "01dddfa1-7770-4ebf-937c-eb61c0c22815",
   "metadata": {},
   "outputs": [
    {
     "name": "stdout",
     "output_type": "stream",
     "text": [
      "\n",
      "Product Catalog:\n",
      "===============================================\n",
      "ID   | Name              | Category | Price\n",
      "===============================================\n",
      "1    | Hiking Boots      | Boots    | 2000.00\n",
      "-----------------------------------------------\n",
      "2    | Winter Coat       | Coats    | 4000.00\n",
      "-----------------------------------------------\n",
      "3    | Leather Jacket    | Jackets  | 3500.00\n",
      "-----------------------------------------------\n",
      "4    | Baseball Cap      | Caps     | 1000.00\n",
      "-----------------------------------------------\n"
     ]
    }
   ],
   "source": [
    "display_product_catalog()"
   ]
  },
  {
   "cell_type": "code",
   "execution_count": 352,
   "id": "d71b7397-e409-4e1c-a708-cb063e9444b6",
   "metadata": {},
   "outputs": [],
   "source": [
    "# User-specific shopping cart\n",
    "user_carts = {}"
   ]
  },
  {
   "cell_type": "code",
   "execution_count": 353,
   "id": "1f225c71-8d3f-48c7-b0e1-3bc94daa1ad4",
   "metadata": {},
   "outputs": [],
   "source": [
    "# Admin-specific product modifications\n",
    "admin_modifications = {}"
   ]
  },
  {
   "cell_type": "code",
   "execution_count": 355,
   "id": "d6947de5-14af-49dc-afca-dc8f1a33e6dd",
   "metadata": {},
   "outputs": [],
   "source": [
    "# Function to display user's shopping cart\n",
    "def display_user_cart(session_id):\n",
    "    if session_id in user_carts:\n",
    "        user_cart = user_carts[session_id]\n",
    "        print(\"\\nYour Shopping Cart:\")\n",
    "        print(\"=\" * 47)\n",
    "        print(\"ID   | Name              | Quantity | Price\")\n",
    "        print(\"=\" * 47)\n",
    "        for product_id, cart_item in user_cart.items():\n",
    "            product_info = product_catalog.get(product_id, {})\n",
    "            if product_info:\n",
    "                print(f\"{product_id:<4} | {product_info['name']:<17} | {cart_item['quantity']:<8} | ${product_info['price']:.2f}\")\n",
    "                print('-'*47)           \n",
    "    else:\n",
    "        print(\"Your shopping cart is empty.\")"
   ]
  },
  {
   "cell_type": "code",
   "execution_count": 356,
   "id": "6775440f-bc77-4729-b2ee-c12047df1779",
   "metadata": {},
   "outputs": [],
   "source": [
    "# Function to add items to the user's shopping cart\n",
    "def add_to_cart(session_id, product_id, quantity):\n",
    "    if session_id not in user_carts:\n",
    "        user_carts[session_id] = {}\n",
    "\n",
    "    if product_id in product_catalog and quantity > 0:\n",
    "        if product_id in user_carts[session_id]:\n",
    "            user_carts[session_id][product_id]['quantity'] += quantity\n",
    "        else:\n",
    "            user_carts[session_id][product_id] = {'quantity': quantity}\n",
    "        print(f\"{quantity} {product_catalog[product_id]['name']} added to your cart.\")\n",
    "    else:\n",
    "        print(\"Invalid product ID or quantity.\")"
   ]
  },
  {
   "cell_type": "code",
   "execution_count": 357,
   "id": "6fc756c7-4b9e-4870-9381-afadd5cebc71",
   "metadata": {},
   "outputs": [],
   "source": [
    "# Function to remove items from the user's shopping cart\n",
    "def remove_from_cart(session_id, product_id, quantity):\n",
    "    if session_id in user_carts and product_id in user_carts[session_id]:\n",
    "        if quantity >= user_carts[session_id][product_id]['quantity']:\n",
    "            del user_carts[session_id][product_id]\n",
    "        else:\n",
    "            user_carts[session_id][product_id]['quantity'] -= quantity\n",
    "        print(f\"{quantity} {product_catalog[product_id]['name']} removed from your cart.\")\n",
    "    else:\n",
    "        print(\"Invalid product ID or quantity.\")"
   ]
  },
  {
   "cell_type": "code",
   "execution_count": 358,
   "id": "24d8e182-d055-4812-a3e6-110c4b0509ce",
   "metadata": {},
   "outputs": [],
   "source": [
    "# Function to perform checkout\n",
    "def checkout(session_id):\n",
    "    display_user_cart(session_id)\n",
    "    \n",
    "    # Payment options\n",
    "    print(\"\\nPayment Options:\")\n",
    "    print(\"1. Net Banking\")\n",
    "    print(\"2. PayPal\")\n",
    "    print(\"3. UPI\")\n",
    "    \n",
    "    # User selects a payment option\n",
    "    payment_option = input(\"Select a payment option (1-3): \")\n",
    "\n",
    "    # Display checkout message based on the selected payment option\n",
    "    if payment_option == '1':\n",
    "        print(\"Your order is successfully placed. Payment will be processed via Net Banking.\")\n",
    "    elif payment_option == '2':\n",
    "        print(f\"You will be shortly redirected to the PayPal portal to make a payment of Rs. {calculate_total_amount(session_id)}\")\n",
    "    elif payment_option == '3':\n",
    "        print(f\"You will be shortly redirected to the portal for Unified Payment Interface to make a payment of Rs. {calculate_total_amount(session_id)}\")\n",
    "    else:\n",
    "        print(\"Invalid payment option.\")"
   ]
  },
  {
   "cell_type": "code",
   "execution_count": 359,
   "id": "0848d1a4-cb94-451a-b064-1a3bd667331d",
   "metadata": {},
   "outputs": [],
   "source": [
    "# Function to calculate the total amount in the user's cart\n",
    "def calculate_total_amount(session_id):\n",
    "    total_amount = 0.0\n",
    "    if session_id in user_carts:\n",
    "        user_cart = user_carts[session_id]\n",
    "        for product_id, cart_item in user_cart.items():\n",
    "            product_info = product_catalog.get(product_id, {})\n",
    "            if product_info:\n",
    "                total_amount += cart_item['quantity'] * product_info['price']\n",
    "    return total_amount"
   ]
  },
  {
   "cell_type": "code",
   "execution_count": 360,
   "id": "12ee329e-c75a-41d7-92ab-b5a383924311",
   "metadata": {},
   "outputs": [],
   "source": [
    "# Function to perform admin actions: Add new product to the catalog\n",
    "def admin_add_product(name, category, price):\n",
    "    new_product_id = str(len(product_catalog) + 1)\n",
    "    product_catalog[new_product_id] = {'name': name, 'category': category, 'price': price}\n",
    "    print(f\"New product '{name}' added to the catalog with ID {new_product_id}.\")"
   ]
  },
  {
   "cell_type": "code",
   "execution_count": 361,
   "id": "93b0b35e-f4bf-4b51-bae9-b8e8b661da06",
   "metadata": {},
   "outputs": [],
   "source": [
    "# Function to perform admin actions: Remove product from catalog\n",
    "def admin_remove_product(product_id):\n",
    "    if product_id in product_catalog:\n",
    "        del product_catalog[product_id]\n",
    "        print(f\"Product with ID {product_id} removed from the catalog.\")\n",
    "    else:\n",
    "        print(\"Invalid product ID.\")"
   ]
  },
  {
   "cell_type": "code",
   "execution_count": 362,
   "id": "d75b1f31-e7fe-4aa1-8593-59aff23695c4",
   "metadata": {},
   "outputs": [],
   "source": [
    "# Function to perform admin actions: Modify existing product in catalog\n",
    "def admin_modify_product(session_id, product_id, name, category, price):\n",
    "    if session_id in admin_modifications:\n",
    "        admin_modifications[session_id][product_id] = {'name': name, 'category': category, 'price': price}\n",
    "        print(f\"Product with ID {product_id} is marked for modification.\")\n",
    "    else:\n",
    "        print(\"Invalid admin session ID.\")"
   ]
  },
  {
   "cell_type": "code",
   "execution_count": 363,
   "id": "9bb84648-694c-4ec7-9c3f-d1a5b16718be",
   "metadata": {},
   "outputs": [],
   "source": [
    "# Function to perform admin actions: Add new category to the catalog\n",
    "def admin_add_category(category_name):\n",
    "    new_category_id = str(len(product_catalog) + 1)\n",
    "    product_catalog[new_category_id] = {'name': f'{category_name} Product', 'category': category_name, 'price': 29.99}\n",
    "    print(f\"New category '{category_name}' added to the catalog with ID {new_category_id}.\")"
   ]
  },
  {
   "cell_type": "code",
   "execution_count": 364,
   "id": "2fffa92a-c64d-4609-9a41-93573866afa4",
   "metadata": {},
   "outputs": [],
   "source": [
    "# Function to perform admin actions: Delete existing category from the catalog\n",
    "def admin_delete_category(category_id):\n",
    "    category_products = [product_id for product_id, info in product_catalog.items() if info['category'] == category_id]\n",
    "    \n",
    "    if category_products:\n",
    "        for product_id in category_products:\n",
    "            del product_catalog[product_id]\n",
    "        print(f\"Category '{category_id}' and its products removed from the catalog.\")\n",
    "    else:\n",
    "        print(\"Invalid category ID.\")"
   ]
  },
  {
   "cell_type": "code",
   "execution_count": 365,
   "id": "b067ba02-f3ff-4e5f-8d5e-eca4b960c5b2",
   "metadata": {},
   "outputs": [],
   "source": [
    "# Example usage\n",
    "def main():\n",
    "    print(\"Welcome to the Demo Marketplace\")\n",
    "\n",
    "    # User login\n",
    "    user_username = input(\"Enter your username: \")\n",
    "    user_password = input(\"Enter your password: \")\n",
    "\n",
    "    if user_login(user_username, user_password):\n",
    "        user_session_id = create_session_id()\n",
    "        print(f\"User login successful! Session ID: {user_session_id}\")\n",
    "        display_product_catalog()\n",
    "\n",
    "        # User actions\n",
    "        display_user_cart(user_session_id)\n",
    "\n",
    "        # Add items to the cart\n",
    "        add_to_cart(user_session_id, '1', 2)\n",
    "        display_user_cart(user_session_id)\n",
    "\n",
    "        # Remove items from the cart\n",
    "        remove_from_cart(user_session_id, '1', 1)\n",
    "        display_user_cart(user_session_id)\n",
    "\n",
    "        # Perform checkout\n",
    "        checkout(user_session_id)\n",
    "    else:\n",
    "        print(\"Invalid credentials. User login failed.\")\n",
    "\n",
    "    # Admin login\n",
    "    admin_username = input(\"Enter admin username: \")\n",
    "    admin_password = input(\"Enter admin password: \")\n",
    "\n",
    "    if admin_login(admin_username, admin_password):\n",
    "        admin_session_id = create_session_id()\n",
    "        print(f\"Admin login successful! Session ID: {admin_session_id}\")\n",
    "\n",
    "        # Admin actions\n",
    "        admin_add_product('Running Shoes', 'Shoes', 99.99)\n",
    "        display_product_catalog()\n",
    "\n",
    "        admin_remove_product('4')  # Remove a product\n",
    "        display_product_catalog()\n",
    "\n",
    "        admin_modify_product(admin_session_id, '1', 'Hiking Boots v2', 'Boots', 89.99)  # Modify a product\n",
    "        display_product_catalog()\n",
    "\n",
    "        admin_add_category('Watches')  # Add a new category\n",
    "        display_product_catalog()\n",
    "\n",
    "        admin_delete_category('Boots')  # Delete an existing category\n",
    "        display_product_catalog()\n",
    "    else:\n",
    "        print(\"Invalid credentials. Admin login failed.\")"
   ]
  },
  {
   "cell_type": "code",
   "execution_count": 342,
   "id": "b730084a-6350-4534-bd6a-04c12950f144",
   "metadata": {},
   "outputs": [
    {
     "name": "stdout",
     "output_type": "stream",
     "text": [
      "Welcome to the Demo Marketplace\n"
     ]
    },
    {
     "name": "stdin",
     "output_type": "stream",
     "text": [
      "Enter your username:  user1\n",
      "Enter your password:  password123\n"
     ]
    },
    {
     "name": "stdout",
     "output_type": "stream",
     "text": [
      "User login successful! Session ID: 07bb2c66a7dcd6540cbfc3376f705a80\n",
      "\n",
      "Product Catalog:\n",
      "===============================================\n",
      "ID   | Name              | Category | Price\n",
      "===============================================\n",
      "1    | Hiking Boots      | Boots    | 2000.00\n",
      "-----------------------------------------------\n",
      "2    | Winter Coat       | Coats    | 4000.00\n",
      "-----------------------------------------------\n",
      "3    | Leather Jacket    | Jackets  | 3500.00\n",
      "-----------------------------------------------\n",
      "4    | Baseball Cap      | Caps     | 1000.00\n",
      "-----------------------------------------------\n",
      "Your shopping cart is empty.\n",
      "2 Hiking Boots added to your cart.\n",
      "\n",
      "Your Shopping Cart:\n",
      "ID   | Name              | Quantity | Price\n",
      "-----------------------------------------------\n",
      "1    | Hiking Boots      | 2        | $2000.00\n",
      "1 Hiking Boots removed from your cart.\n",
      "\n",
      "Your Shopping Cart:\n",
      "ID   | Name              | Quantity | Price\n",
      "-----------------------------------------------\n",
      "1    | Hiking Boots      | 1        | $2000.00\n",
      "\n",
      "Your Shopping Cart:\n",
      "ID   | Name              | Quantity | Price\n",
      "-----------------------------------------------\n",
      "1    | Hiking Boots      | 1        | $2000.00\n",
      "\n",
      "Payment Options:\n",
      "1. Net Banking\n",
      "2. PayPal\n",
      "3. UPI\n"
     ]
    },
    {
     "name": "stdin",
     "output_type": "stream",
     "text": [
      "Select a payment option (1-3):  1\n"
     ]
    },
    {
     "name": "stdout",
     "output_type": "stream",
     "text": [
      "Your order is successfully placed. Payment will be processed via Net Banking.\n"
     ]
    },
    {
     "name": "stdin",
     "output_type": "stream",
     "text": [
      "Enter admin username:  admin\n",
      "Enter admin password:  adminpass\n"
     ]
    },
    {
     "name": "stdout",
     "output_type": "stream",
     "text": [
      "Admin login successful! Session ID: c5f0439d2f1d8ed31a56eb2d20ca38a6\n",
      "New product 'Running Shoes' added to the catalog with ID 5.\n",
      "\n",
      "Product Catalog:\n",
      "===============================================\n",
      "ID   | Name              | Category | Price\n",
      "===============================================\n",
      "1    | Hiking Boots      | Boots    | 2000.00\n",
      "-----------------------------------------------\n",
      "2    | Winter Coat       | Coats    | 4000.00\n",
      "-----------------------------------------------\n",
      "3    | Leather Jacket    | Jackets  | 3500.00\n",
      "-----------------------------------------------\n",
      "4    | Baseball Cap      | Caps     | 1000.00\n",
      "-----------------------------------------------\n",
      "5    | Running Shoes     | Shoes    | 99.99\n",
      "-----------------------------------------------\n",
      "Product with ID 4 removed from the catalog.\n",
      "\n",
      "Product Catalog:\n",
      "===============================================\n",
      "ID   | Name              | Category | Price\n",
      "===============================================\n",
      "1    | Hiking Boots      | Boots    | 2000.00\n",
      "-----------------------------------------------\n",
      "2    | Winter Coat       | Coats    | 4000.00\n",
      "-----------------------------------------------\n",
      "3    | Leather Jacket    | Jackets  | 3500.00\n",
      "-----------------------------------------------\n",
      "5    | Running Shoes     | Shoes    | 99.99\n",
      "-----------------------------------------------\n",
      "Invalid admin session ID.\n",
      "\n",
      "Product Catalog:\n",
      "===============================================\n",
      "ID   | Name              | Category | Price\n",
      "===============================================\n",
      "1    | Hiking Boots      | Boots    | 2000.00\n",
      "-----------------------------------------------\n",
      "2    | Winter Coat       | Coats    | 4000.00\n",
      "-----------------------------------------------\n",
      "3    | Leather Jacket    | Jackets  | 3500.00\n",
      "-----------------------------------------------\n",
      "5    | Running Shoes     | Shoes    | 99.99\n",
      "-----------------------------------------------\n",
      "New category 'Watches' added to the catalog with ID 5.\n",
      "\n",
      "Product Catalog:\n",
      "===============================================\n",
      "ID   | Name              | Category | Price\n",
      "===============================================\n",
      "1    | Hiking Boots      | Boots    | 2000.00\n",
      "-----------------------------------------------\n",
      "2    | Winter Coat       | Coats    | 4000.00\n",
      "-----------------------------------------------\n",
      "3    | Leather Jacket    | Jackets  | 3500.00\n",
      "-----------------------------------------------\n",
      "5    | Watches Product   | Watches  | 29.99\n",
      "-----------------------------------------------\n",
      "Category 'Boots' and its products removed from the catalog.\n",
      "\n",
      "Product Catalog:\n",
      "===============================================\n",
      "ID   | Name              | Category | Price\n",
      "===============================================\n",
      "2    | Winter Coat       | Coats    | 4000.00\n",
      "-----------------------------------------------\n",
      "3    | Leather Jacket    | Jackets  | 3500.00\n",
      "-----------------------------------------------\n",
      "5    | Watches Product   | Watches  | 29.99\n",
      "-----------------------------------------------\n"
     ]
    }
   ],
   "source": [
    "if __name__ == \"__main__\":\n",
    "    main()"
   ]
  },
  {
   "cell_type": "code",
   "execution_count": null,
   "id": "2a5ccce7-ce2f-4551-900a-bbbb1cb9c244",
   "metadata": {},
   "outputs": [],
   "source": []
  }
 ],
 "metadata": {
  "kernelspec": {
   "display_name": "Python 3 (ipykernel)",
   "language": "python",
   "name": "python3"
  },
  "language_info": {
   "codemirror_mode": {
    "name": "ipython",
    "version": 3
   },
   "file_extension": ".py",
   "mimetype": "text/x-python",
   "name": "python",
   "nbconvert_exporter": "python",
   "pygments_lexer": "ipython3",
   "version": "3.11.6"
  }
 },
 "nbformat": 4,
 "nbformat_minor": 5
}
