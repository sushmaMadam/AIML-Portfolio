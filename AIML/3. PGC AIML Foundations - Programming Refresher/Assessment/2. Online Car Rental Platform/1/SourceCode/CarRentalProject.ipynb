{
 "cells": [
  {
   "cell_type": "code",
   "execution_count": 1,
   "id": "75065146-3c6c-4e00-b41b-775eda7460c4",
   "metadata": {},
   "outputs": [
    {
     "name": "stdout",
     "output_type": "stream",
     "text": [
      "Hi Sushma!\n",
      "\n",
      "1. Display available cars\n",
      "2. Rent cars\n",
      "3. Return cars\n",
      "4. Exit\n"
     ]
    },
    {
     "name": "stdin",
     "output_type": "stream",
     "text": [
      "Enter your choice (1/2/3/4):  1\n"
     ]
    },
    {
     "name": "stdout",
     "output_type": "stream",
     "text": [
      "Available Cars: 10\n",
      "\n",
      "1. Display available cars\n",
      "2. Rent cars\n",
      "3. Return cars\n",
      "4. Exit\n"
     ]
    },
    {
     "name": "stdin",
     "output_type": "stream",
     "text": [
      "Enter your choice (1/2/3/4):  2\n",
      "Enter the number of cars to rent:  2\n",
      "Enter rental mode (hourly/daily/weekly):  hourly\n"
     ]
    },
    {
     "name": "stdout",
     "output_type": "stream",
     "text": [
      "2 cars rented hourly at 2024-01-29 17:41:19.872759.\n",
      "\n",
      "1. Display available cars\n",
      "2. Rent cars\n",
      "3. Return cars\n",
      "4. Exit\n"
     ]
    },
    {
     "name": "stdin",
     "output_type": "stream",
     "text": [
      "Enter your choice (1/2/3/4):  1\n"
     ]
    },
    {
     "name": "stdout",
     "output_type": "stream",
     "text": [
      "Available Cars: 8\n",
      "\n",
      "1. Display available cars\n",
      "2. Rent cars\n",
      "3. Return cars\n",
      "4. Exit\n"
     ]
    },
    {
     "name": "stdin",
     "output_type": "stream",
     "text": [
      "Enter your choice (1/2/3/4):  3\n",
      "Enter the number of cars to return:  2\n"
     ]
    },
    {
     "name": "stdout",
     "output_type": "stream",
     "text": [
      "2 cars returned.\n",
      "Rental period: 0:15:34.184992.\n",
      "Bill: Rs.207.\n",
      "\n",
      "1. Display available cars\n",
      "2. Rent cars\n",
      "3. Return cars\n",
      "4. Exit\n"
     ]
    },
    {
     "name": "stdin",
     "output_type": "stream",
     "text": [
      "Enter your choice (1/2/3/4):  1\n"
     ]
    },
    {
     "name": "stdout",
     "output_type": "stream",
     "text": [
      "Available Cars: 10\n",
      "\n",
      "1. Display available cars\n",
      "2. Rent cars\n",
      "3. Return cars\n",
      "4. Exit\n"
     ]
    },
    {
     "name": "stdin",
     "output_type": "stream",
     "text": [
      "Enter your choice (1/2/3/4):  4\n"
     ]
    },
    {
     "name": "stdout",
     "output_type": "stream",
     "text": [
      "Exiting the car rental system.\n"
     ]
    }
   ],
   "source": [
    "# CarRentalProject.ipynb\n",
    "\n",
    "from CarRentalModule import CarRental, Customer\n",
    "\n",
    "def main():\n",
    "    total_cars = 10  # Total number of cars is set as 10.\n",
    "    car_rental = CarRental(total_cars)\n",
    "    customer = Customer(\"Sushma\")\n",
    "\n",
    "    print(\"Hi {}!\".format(customer.name))\n",
    "\n",
    "    while True:\n",
    "        print(\"\\n1. Display available cars\")\n",
    "        print(\"2. Rent cars\")\n",
    "        print(\"3. Return cars\")\n",
    "        print(\"4. Exit\")\n",
    "        choice = input(\"Enter your choice (1/2/3/4): \")\n",
    "\n",
    "        if choice == \"1\":\n",
    "            car_rental.display_available_cars()\n",
    "        elif choice == \"2\":\n",
    "            num_cars = int(input(\"Enter the number of cars to rent: \"))\n",
    "            rental_mode = input(\"Enter rental mode (hourly/daily/weekly): \")\n",
    "            message = customer.request_cars(car_rental, num_cars, rental_mode)\n",
    "            print(message)\n",
    "        elif choice == \"3\":\n",
    "            num_cars = int(input(\"Enter the number of cars to return: \"))\n",
    "            message = customer.return_cars(car_rental, num_cars)\n",
    "            print(message)\n",
    "        elif choice == \"4\":\n",
    "            print(\"Exiting the car rental system.\")\n",
    "            break\n",
    "        else:\n",
    "            print(\"Invalid choice. Please enter a valid option.\")\n",
    "\n",
    "if __name__ == \"__main__\":\n",
    "    main()"
   ]
  },
  {
   "cell_type": "code",
   "execution_count": null,
   "id": "66fd051a-2a52-447d-a795-c7f78d601f5b",
   "metadata": {},
   "outputs": [],
   "source": []
  }
 ],
 "metadata": {
  "kernelspec": {
   "display_name": "Python 3 (ipykernel)",
   "language": "python",
   "name": "python3"
  },
  "language_info": {
   "codemirror_mode": {
    "name": "ipython",
    "version": 3
   },
   "file_extension": ".py",
   "mimetype": "text/x-python",
   "name": "python",
   "nbconvert_exporter": "python",
   "pygments_lexer": "ipython3",
   "version": "3.11.6"
  }
 },
 "nbformat": 4,
 "nbformat_minor": 5
}
