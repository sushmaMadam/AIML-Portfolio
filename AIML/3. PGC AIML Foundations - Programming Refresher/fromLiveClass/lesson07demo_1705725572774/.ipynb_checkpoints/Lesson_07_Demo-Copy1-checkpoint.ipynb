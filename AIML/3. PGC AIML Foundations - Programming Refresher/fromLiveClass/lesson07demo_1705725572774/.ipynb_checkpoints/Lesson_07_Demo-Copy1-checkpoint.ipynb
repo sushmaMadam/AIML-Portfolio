{
 "cells": [
  {
   "cell_type": "markdown",
   "id": "1ad9d008",
   "metadata": {},
   "source": [
    "# Clasess & Objects"
   ]
  },
  {
   "cell_type": "code",
   "execution_count": null,
   "id": "b199d024",
   "metadata": {},
   "outputs": [],
   "source": [
    "class demo :\n",
    "    pass"
   ]
  },
  {
   "cell_type": "code",
   "execution_count": null,
   "id": "4008f8d0",
   "metadata": {},
   "outputs": [],
   "source": [
    "obj = demo()"
   ]
  },
  {
   "cell_type": "code",
   "execution_count": null,
   "id": "17dee415",
   "metadata": {},
   "outputs": [],
   "source": [
    "print(obj)"
   ]
  },
  {
   "cell_type": "code",
   "execution_count": null,
   "id": "82fcc6f8",
   "metadata": {},
   "outputs": [],
   "source": [
    "help(obj)"
   ]
  },
  {
   "cell_type": "markdown",
   "id": "e56b1e59",
   "metadata": {},
   "source": [
    "## Attributes & Methods"
   ]
  },
  {
   "cell_type": "code",
   "execution_count": null,
   "id": "c041489d",
   "metadata": {},
   "outputs": [],
   "source": [
    "class Health :\n",
    "    '''This is class \"Health\" with information and functions related with our health. '''\n",
    "    # __init__ function \n",
    "    def __init__(self, name, age, loc):\n",
    "        '''\n",
    "        Initialization of Health class.\n",
    "        '''\n",
    "        self.name = name\n",
    "        self.age = age\n",
    "        self.location = loc\n",
    "        \n",
    "    # another method to display data \n",
    "    def print_info(self):\n",
    "        print('Individual Helath Information :')\n",
    "        print('Name     : ', self.name)\n",
    "        print('Age      : ', self.age)\n",
    "        print('Location : ', self.location)"
   ]
  },
  {
   "cell_type": "code",
   "execution_count": null,
   "id": "2b5f5e03",
   "metadata": {},
   "outputs": [],
   "source": [
    "h1 = Health('John Davis', 54, 'Texas')"
   ]
  },
  {
   "cell_type": "code",
   "execution_count": null,
   "id": "bb7a9018",
   "metadata": {},
   "outputs": [],
   "source": [
    "h1.print_info()"
   ]
  },
  {
   "cell_type": "markdown",
   "id": "67ea4c27",
   "metadata": {},
   "source": [
    "## Data attributes & class attributes"
   ]
  },
  {
   "cell_type": "code",
   "execution_count": null,
   "id": "dcd82f04",
   "metadata": {},
   "outputs": [],
   "source": [
    "class Health :\n",
    "    '''This is class \"Health\" with information and functions related with our health. '''\n",
    "    # class attribute\n",
    "    counter = 0\n",
    "    \n",
    "    # __init__ function \n",
    "    def __init__(self, name, age, loc):\n",
    "        '''\n",
    "        Initialization of Health class.\n",
    "        '''\n",
    "        self.name = name\n",
    "        self.age = age\n",
    "        self.location = loc\n",
    "        Health.counter += 1\n",
    "        \n",
    "    # another method to display data \n",
    "    def print_info(self):\n",
    "        print('Individual Information :')\n",
    "        print('Name     : ', self.name)\n",
    "        print('Age      : ', self.age)\n",
    "        print('Location : ', self.location)\n",
    "        print('No. of Objects : ', Health.counter)"
   ]
  },
  {
   "cell_type": "code",
   "execution_count": null,
   "id": "d677757a",
   "metadata": {},
   "outputs": [],
   "source": [
    "obj_1 = Health('John Davis', 54, 'Texas')"
   ]
  },
  {
   "cell_type": "code",
   "execution_count": null,
   "id": "71983781",
   "metadata": {},
   "outputs": [],
   "source": [
    "obj_1.print_info()"
   ]
  },
  {
   "cell_type": "code",
   "execution_count": null,
   "id": "3fecd0d7",
   "metadata": {},
   "outputs": [],
   "source": [
    "obj_2 = Health('Dave Jones', 31, 'NewYork')"
   ]
  },
  {
   "cell_type": "code",
   "execution_count": null,
   "id": "17040544",
   "metadata": {},
   "outputs": [],
   "source": [
    "obj_2.print_info()"
   ]
  },
  {
   "cell_type": "markdown",
   "id": "d517a798",
   "metadata": {},
   "source": [
    "## Access Data & Class Attributes"
   ]
  },
  {
   "cell_type": "code",
   "execution_count": null,
   "id": "ccb1f9ab",
   "metadata": {},
   "outputs": [],
   "source": [
    "obj_1.name, obj_1.age"
   ]
  },
  {
   "cell_type": "code",
   "execution_count": null,
   "id": "09a82868",
   "metadata": {},
   "outputs": [],
   "source": [
    "obj_2.name, obj_2.age"
   ]
  },
  {
   "cell_type": "code",
   "execution_count": null,
   "id": "00e32322",
   "metadata": {},
   "outputs": [],
   "source": [
    "obj_1.counter , obj_2.counter"
   ]
  },
  {
   "cell_type": "markdown",
   "id": "b93e6723",
   "metadata": {
    "tags": []
   },
   "source": [
    "## Data Attributes vs Class Attributes "
   ]
  },
  {
   "cell_type": "code",
   "execution_count": null,
   "id": "cad4bfda",
   "metadata": {},
   "outputs": [],
   "source": [
    "obj_1.name is obj_2.name"
   ]
  },
  {
   "cell_type": "code",
   "execution_count": null,
   "id": "4f7b8470",
   "metadata": {},
   "outputs": [],
   "source": [
    "obj_1.counter is obj_2.counter"
   ]
  },
  {
   "cell_type": "code",
   "execution_count": null,
   "id": "eff8896c",
   "metadata": {},
   "outputs": [],
   "source": []
  },
  {
   "cell_type": "markdown",
   "id": "5b6d490e",
   "metadata": {
    "tags": []
   },
   "source": [
    "# Access Modifiers"
   ]
  },
  {
   "cell_type": "code",
   "execution_count": null,
   "id": "b34e873d",
   "metadata": {},
   "outputs": [],
   "source": [
    "\n",
    "class student :\n",
    "    counter = 0\n",
    "    # constructor\n",
    "    def __init__(self, name, fathersname, age):\n",
    "        self.name = name\n",
    "        self.fathersname = fathersname\n",
    "        self.age = age\n",
    "        student.counter +=1\n",
    "        self._roll_no = 'A2022/{}/{:003d}'.format(self.name[:3].upper() ,student.counter)\n",
    "        self.__file_no = 'A2022/{}/{:003d}'.format(self.name.upper() ,student.counter)\n",
    "    def print_info(self):\n",
    "        print('Name          : ', self.name)\n",
    "        print(\"Father's Name : \",self.fathersname )\n",
    "        print(\"Age           : \", self.age)\n",
    "        print(\"Roll No.      : \", self._roll_no)\n",
    "        print(\"File No.      : \", self.__file_no)"
   ]
  },
  {
   "cell_type": "code",
   "execution_count": null,
   "id": "c11162ac",
   "metadata": {},
   "outputs": [],
   "source": [
    "st1 = student('John Davis', 'Malcom Davis', 10)"
   ]
  },
  {
   "cell_type": "code",
   "execution_count": null,
   "id": "356a83de",
   "metadata": {},
   "outputs": [],
   "source": [
    "st1.print_info()"
   ]
  },
  {
   "cell_type": "code",
   "execution_count": null,
   "id": "d7d0e3c9",
   "metadata": {},
   "outputs": [],
   "source": [
    "class science(student):\n",
    "    def display(self):\n",
    "        print('Name          : ', self.name)\n",
    "        print(\"Father's Name : \",self.fathersname )\n",
    "        print(\"Age           : \", self.age)\n",
    "        print(\"Roll No.      : \", self._roll_no)\n",
    "        print(\"File No.      : \", self.__file_no)\n",
    "        "
   ]
  },
  {
   "cell_type": "code",
   "execution_count": null,
   "id": "8d4cb4ef",
   "metadata": {},
   "outputs": [],
   "source": [
    "sci_st = science('John Davis', 'Malcom Davis', 15)"
   ]
  },
  {
   "cell_type": "code",
   "execution_count": null,
   "id": "9cd2f90d",
   "metadata": {},
   "outputs": [],
   "source": [
    "sci_st.print_info()"
   ]
  },
  {
   "cell_type": "code",
   "execution_count": null,
   "id": "183bd9b4",
   "metadata": {},
   "outputs": [],
   "source": [
    "sci_st.display()"
   ]
  },
  {
   "cell_type": "code",
   "execution_count": null,
   "id": "753595cb",
   "metadata": {},
   "outputs": [],
   "source": []
  },
  {
   "cell_type": "code",
   "execution_count": null,
   "id": "eeece25a",
   "metadata": {},
   "outputs": [],
   "source": []
  },
  {
   "cell_type": "markdown",
   "id": "ca71ccbb",
   "metadata": {},
   "source": [
    "# Inheritance"
   ]
  },
  {
   "cell_type": "code",
   "execution_count": null,
   "id": "02094fcc",
   "metadata": {},
   "outputs": [],
   "source": [
    "class Parent :\n",
    "    def __init__(self):\n",
    "        print('Welcome to Parent Class')\n",
    "    \n",
    "    def parent_func(self):\n",
    "        print('This is the parent Function')    "
   ]
  },
  {
   "cell_type": "code",
   "execution_count": null,
   "id": "b0b556ca",
   "metadata": {},
   "outputs": [],
   "source": [
    "class Child(Parent):\n",
    "    pass"
   ]
  },
  {
   "cell_type": "code",
   "execution_count": null,
   "id": "1370c693",
   "metadata": {},
   "outputs": [],
   "source": [
    "obj = Child()"
   ]
  },
  {
   "cell_type": "code",
   "execution_count": null,
   "id": "9354ce0c",
   "metadata": {},
   "outputs": [],
   "source": [
    "obj.parent_func()"
   ]
  },
  {
   "cell_type": "markdown",
   "id": "30576faf",
   "metadata": {},
   "source": [
    "## Types of Inheritance"
   ]
  },
  {
   "cell_type": "markdown",
   "id": "1b867915",
   "metadata": {},
   "source": [
    "### Single Inheritance"
   ]
  },
  {
   "cell_type": "code",
   "execution_count": null,
   "id": "220fcbea",
   "metadata": {},
   "outputs": [],
   "source": [
    "# base class\n",
    "class information:\n",
    "    def __init__(self, name, age, gender):\n",
    "        self.name = name\n",
    "        self.age = age\n",
    "        self.gender = gender\n",
    "    \n",
    "    def print_info(self):\n",
    "        print('Name   : ', self.name)\n",
    "        print('Age    : ', self.age)\n",
    "        print('Gender : ', self.gender)"
   ]
  },
  {
   "cell_type": "code",
   "execution_count": null,
   "id": "be15df11",
   "metadata": {},
   "outputs": [],
   "source": [
    "# derived class\n",
    "class learners(information):\n",
    "    def set_learner_data(self, exp = None, qual = None):\n",
    "        self.qual = qual\n",
    "        self.exp = exp\n",
    "   \n",
    "    def display(self):\n",
    "        self.print_info()\n",
    "        print('Qual   : ', self.qual)\n",
    "        print('Exp    : ', self.exp)\n",
    "    "
   ]
  },
  {
   "cell_type": "code",
   "execution_count": null,
   "id": "9e91dba4",
   "metadata": {},
   "outputs": [],
   "source": [
    "obj1 = learners('John Davis', 34, 'M')"
   ]
  },
  {
   "cell_type": "code",
   "execution_count": null,
   "id": "38b9dc66",
   "metadata": {},
   "outputs": [],
   "source": [
    "obj1.print_info()"
   ]
  },
  {
   "cell_type": "code",
   "execution_count": null,
   "id": "d6bc0a79",
   "metadata": {},
   "outputs": [],
   "source": [
    "obj1.set_learner_data(5, 'Graduate')"
   ]
  },
  {
   "cell_type": "code",
   "execution_count": null,
   "id": "67f6f61c",
   "metadata": {},
   "outputs": [],
   "source": [
    "obj1.display()"
   ]
  },
  {
   "cell_type": "markdown",
   "id": "dd71f5d2",
   "metadata": {},
   "source": [
    "# Multilevel Inheritance"
   ]
  },
  {
   "cell_type": "code",
   "execution_count": null,
   "id": "8ff189c4",
   "metadata": {},
   "outputs": [],
   "source": [
    "# base class\n",
    "class information:\n",
    "    def __init__(self, name, age, gender):\n",
    "        self.name = name\n",
    "        self.age = age\n",
    "        self.gender = gender\n",
    "    \n",
    "    def print_info(self):\n",
    "        print('Name   : ', self.name)\n",
    "        print('Age    : ', self.age)\n",
    "        print('Gender : ', self.gender)"
   ]
  },
  {
   "cell_type": "code",
   "execution_count": null,
   "id": "2ffc52da",
   "metadata": {},
   "outputs": [],
   "source": [
    "# derived class\n",
    "class learners(information):\n",
    "    def set_learner_data(self, exp = None, qual = None):\n",
    "        self.qual = qual\n",
    "        self.exp = exp\n",
    "   \n",
    "    def display(self):\n",
    "        self.print_info()\n",
    "        print('Qual   : ', self.qual)\n",
    "        print('Exp    : ', self.exp)"
   ]
  },
  {
   "cell_type": "code",
   "execution_count": null,
   "id": "48a5e892",
   "metadata": {},
   "outputs": [],
   "source": [
    "class profile(learners) :\n",
    "    pass"
   ]
  },
  {
   "cell_type": "code",
   "execution_count": null,
   "id": "4824ad0a",
   "metadata": {},
   "outputs": [],
   "source": [
    "obj_2 = profile('John Davis', 34, 'M')"
   ]
  },
  {
   "cell_type": "code",
   "execution_count": null,
   "id": "552fb349",
   "metadata": {},
   "outputs": [],
   "source": [
    "obj_2.print_info()"
   ]
  },
  {
   "cell_type": "code",
   "execution_count": null,
   "id": "679077cd",
   "metadata": {},
   "outputs": [],
   "source": [
    "obj_2.set_learner_data(3, 'Graduate')"
   ]
  },
  {
   "cell_type": "code",
   "execution_count": null,
   "id": "299c3953",
   "metadata": {},
   "outputs": [],
   "source": [
    "obj_2.display()"
   ]
  },
  {
   "cell_type": "markdown",
   "id": "664bbf28",
   "metadata": {},
   "source": [
    "## Hierarchical Inheritance"
   ]
  },
  {
   "cell_type": "code",
   "execution_count": null,
   "id": "afa8ddeb",
   "metadata": {},
   "outputs": [],
   "source": [
    "# base class\n",
    "class information:\n",
    "    def __init__(self, name, age, gender):\n",
    "        self.name = name\n",
    "        self.age = age\n",
    "        self.gender = gender\n",
    "    \n",
    "    def print_info(self):\n",
    "        print('Name   : ', self.name)\n",
    "        print('Age    : ', self.age)\n",
    "        print('Gender : ', self.gender)"
   ]
  },
  {
   "cell_type": "code",
   "execution_count": null,
   "id": "179aa9db",
   "metadata": {},
   "outputs": [],
   "source": [
    "# derived class 1\n",
    "class learners(information):\n",
    "    def set_learner_data(self, exp = None, qual = None):\n",
    "        self.qual = qual\n",
    "        self.exp = exp\n",
    "   \n",
    "    def display(self):\n",
    "        self.print_info()\n",
    "        print('Qual   : ', self.qual)\n",
    "        print('Exp    : ', self.exp)"
   ]
  },
  {
   "cell_type": "code",
   "execution_count": null,
   "id": "8d4cbe10",
   "metadata": {},
   "outputs": [],
   "source": [
    "# derived class 2\n",
    "class trainer(information):\n",
    "    def set_trainer_data(self, exp, charges ):\n",
    "        self.exp = exp\n",
    "        self.charges = charges\n",
    "    \n",
    "    def display_trainer(self):\n",
    "        self.print_info()\n",
    "        print('Experience        : ', self.exp)\n",
    "        print('Hourly Charges    : ', self.charges)"
   ]
  },
  {
   "cell_type": "code",
   "execution_count": null,
   "id": "e50a3ad0",
   "metadata": {},
   "outputs": [],
   "source": [
    "obj_learner = learners('John Davis', 21, 'M')\n",
    "obj_learner.set_learner_data(3, 'Graduate')"
   ]
  },
  {
   "cell_type": "code",
   "execution_count": null,
   "id": "87ed7b9f",
   "metadata": {},
   "outputs": [],
   "source": [
    "obj_learner.print_info()"
   ]
  },
  {
   "cell_type": "code",
   "execution_count": null,
   "id": "dee5e782",
   "metadata": {},
   "outputs": [],
   "source": [
    "obj_learner.display()"
   ]
  },
  {
   "cell_type": "code",
   "execution_count": null,
   "id": "35fdda60",
   "metadata": {},
   "outputs": [],
   "source": [
    "obj_trainer = trainer('Michael Dave', 43, 'Doctrate')\n",
    "obj_trainer.set_trainer_data(15, 3500)"
   ]
  },
  {
   "cell_type": "code",
   "execution_count": null,
   "id": "68386c26",
   "metadata": {},
   "outputs": [],
   "source": [
    "obj_trainer.print_info()"
   ]
  },
  {
   "cell_type": "code",
   "execution_count": null,
   "id": "e8eb3fc7",
   "metadata": {},
   "outputs": [],
   "source": [
    "obj_trainer.display_trainer()"
   ]
  },
  {
   "cell_type": "markdown",
   "id": "d755d8f0",
   "metadata": {},
   "source": [
    "## Multiple Inheritance"
   ]
  },
  {
   "cell_type": "code",
   "execution_count": null,
   "id": "54827a90",
   "metadata": {},
   "outputs": [],
   "source": [
    "# base class 1\n",
    "class information:\n",
    "    def __init__(self, name, age, gender):\n",
    "        self.name = name\n",
    "        self.age = age\n",
    "        self.gender = gender\n",
    "    \n",
    "    def print_info(self):\n",
    "        print('Name   : ', self.name)\n",
    "        print('Age    : ', self.age)\n",
    "        print('Gender : ', self.gender)"
   ]
  },
  {
   "cell_type": "code",
   "execution_count": null,
   "id": "42cd435f",
   "metadata": {},
   "outputs": [],
   "source": [
    "# base class 2\n",
    "class course_inf:\n",
    "    def __init__(self):\n",
    "        self.inf = {'Weekend' : {'Big Data & AI':12, \n",
    "                                'Cloud Computing' : 8,\n",
    "                                'Data Science with Python' :6,\n",
    "                                'Data Science with R' : 5 },\n",
    "                   'Weekday' : {'Big Data & AI':6, \n",
    "                                'Cloud Computing' : 5,\n",
    "                                'Data Science with Python': 3,\n",
    "                                'Data Science with R' : 2.5 }}"
   ]
  },
  {
   "cell_type": "code",
   "execution_count": null,
   "id": "64e0bb86",
   "metadata": {},
   "outputs": [],
   "source": [
    "# derived class\n",
    "class learners(information, course_inf):\n",
    "    \n",
    "    def __init__(self,name, age, gender,course, pref):\n",
    "        information.__init__(self, name, age, gender)\n",
    "        course_inf.__init__(self)\n",
    "        self.course = course\n",
    "        self.pref = pref\n",
    "        \n",
    "    def display(self):\n",
    "        information.print_info(self)\n",
    "        print('Course : ', self.course)\n",
    "        print('Pref   : ', self.pref)\n",
    "        weeks = self.inf[self.pref][self.course]\n",
    "        print('# of Weeks : ', weeks)"
   ]
  },
  {
   "cell_type": "code",
   "execution_count": null,
   "id": "f32324a2",
   "metadata": {},
   "outputs": [],
   "source": [
    "obj_learn = learners('Ava Jones', 33, 'F', 'Data Science with R', 'Weekend')\n",
    "\n",
    "obj_learn.display()"
   ]
  },
  {
   "cell_type": "code",
   "execution_count": null,
   "id": "038abe08",
   "metadata": {},
   "outputs": [],
   "source": [
    "obj_learn.inf"
   ]
  },
  {
   "cell_type": "markdown",
   "id": "69964d66",
   "metadata": {},
   "source": [
    "# "
   ]
  },
  {
   "cell_type": "markdown",
   "id": "cae30ba1",
   "metadata": {},
   "source": [
    "# "
   ]
  },
  {
   "cell_type": "markdown",
   "id": "a22c251e",
   "metadata": {},
   "source": [
    "# Polymorphism\n",
    "## Method Overloading"
   ]
  },
  {
   "cell_type": "code",
   "execution_count": null,
   "id": "8236418d",
   "metadata": {},
   "outputs": [],
   "source": [
    "class information:\n",
    "    def __init__(self, name, age, gender):\n",
    "        self.name = name\n",
    "        self.age = age\n",
    "        self.gender = gender\n",
    "    \n",
    "    def print_info(self):\n",
    "        print('Name   : ', self.name)\n",
    "        print('Age    : ', self.age)\n",
    "        print('Gender : ', self.gender)"
   ]
  },
  {
   "cell_type": "code",
   "execution_count": null,
   "id": "d5956296",
   "metadata": {},
   "outputs": [],
   "source": [
    "class learners:\n",
    "    def __init__(self, name, age, gender, exp, qual):\n",
    "        self.name = name\n",
    "        self.age = age\n",
    "        self.gender = gender\n",
    "        self.qual = qual\n",
    "        self.exp = exp\n",
    "   \n",
    "    def print_info(self):\n",
    "        print('Name\\t: ', self.name)\n",
    "        print('Age\\t: ', self.age)\n",
    "        print('Gender\\t: ', self.gender)\n",
    "        print('Qual   : ', self.qual)\n",
    "        print('Exp    : ', self.exp)"
   ]
  },
  {
   "cell_type": "code",
   "execution_count": null,
   "id": "a876bb04",
   "metadata": {},
   "outputs": [],
   "source": [
    "obj1 = information('John Davis', 34, 'M' )\n",
    "obj2 = learners('John Davis', 34, 'M', 3.5, 'Graduate')"
   ]
  },
  {
   "cell_type": "code",
   "execution_count": null,
   "id": "77da4030",
   "metadata": {},
   "outputs": [],
   "source": [
    "obj1.print_info()"
   ]
  },
  {
   "cell_type": "code",
   "execution_count": null,
   "id": "436f15c1",
   "metadata": {},
   "outputs": [],
   "source": [
    "obj2.print_info()"
   ]
  },
  {
   "cell_type": "markdown",
   "id": "724d29ff",
   "metadata": {},
   "source": [
    "## Operator Overloading"
   ]
  },
  {
   "cell_type": "code",
   "execution_count": null,
   "id": "963e1508",
   "metadata": {},
   "outputs": [],
   "source": [
    "x = 8; y = 15\n",
    "x + y"
   ]
  },
  {
   "cell_type": "code",
   "execution_count": null,
   "id": "071967b0",
   "metadata": {},
   "outputs": [],
   "source": [
    "x = 'FirstName' \n",
    "y = 'LastName'\n",
    "x + ' ' + y"
   ]
  },
  {
   "cell_type": "markdown",
   "id": "d45cfc5c",
   "metadata": {},
   "source": [
    "## Method Overriding"
   ]
  },
  {
   "cell_type": "code",
   "execution_count": null,
   "id": "b44dc2b0",
   "metadata": {},
   "outputs": [],
   "source": [
    "class information:\n",
    "    def __init__(self, name, age, gender):\n",
    "        self.name = name\n",
    "        self.age = age\n",
    "        self.gender = gender\n",
    "    \n",
    "    def print_info(self):\n",
    "        print('Name   : ', self.name)\n",
    "        print('Age    : ', self.age)\n",
    "        print('Gender : ', self.gender)"
   ]
  },
  {
   "cell_type": "code",
   "execution_count": null,
   "id": "e79fc963",
   "metadata": {},
   "outputs": [],
   "source": [
    "class learners(information):\n",
    "    def __init__(self, name, age, gender, exp, qual):\n",
    "        information.__init__(self, name, age, gender)\n",
    "        self.qual = qual\n",
    "        self.exp = exp\n",
    "   \n",
    "    def print_info(self):\n",
    "        '''print_info function of derived class overrides the print_info function of parent class'''\n",
    "        print('Qual   : ', self.qual)\n",
    "        print('Exp    : ', self.exp)"
   ]
  },
  {
   "cell_type": "code",
   "execution_count": null,
   "id": "e9a0e390",
   "metadata": {},
   "outputs": [],
   "source": [
    "obj = learners('John Davis', 45, 'M', 4.5, 'Graduate')"
   ]
  },
  {
   "cell_type": "code",
   "execution_count": null,
   "id": "fe8d3a0d",
   "metadata": {},
   "outputs": [],
   "source": [
    "obj.print_info()"
   ]
  },
  {
   "cell_type": "code",
   "execution_count": null,
   "id": "f5415356",
   "metadata": {},
   "outputs": [],
   "source": [
    "class learners(information):\n",
    "    def __init__(self, name, age, gender, exp, qual):\n",
    "        information.__init__(self, name, age, gender)\n",
    "        self.qual = qual\n",
    "        self.exp = exp\n",
    "   \n",
    "    def print_info(self):\n",
    "        '''\n",
    "        print_info function of derived class overrides the print_info function of parent class. \n",
    "        To use the print ifno function of parent class, the function needs to be invoked explicitly.\n",
    "        '''\n",
    "        information.print_info(self)\n",
    "        print('Qual   : ', self.qual)\n",
    "        print('Exp    : ', self.exp)"
   ]
  },
  {
   "cell_type": "code",
   "execution_count": null,
   "id": "d89dcf9c",
   "metadata": {},
   "outputs": [],
   "source": [
    "obj = learners('John Davis', 45, 'M', 4.5, 'Graduate')"
   ]
  },
  {
   "cell_type": "code",
   "execution_count": null,
   "id": "15549f8f",
   "metadata": {},
   "outputs": [],
   "source": [
    "obj.print_info()"
   ]
  },
  {
   "cell_type": "code",
   "execution_count": null,
   "id": "cdcc25ea",
   "metadata": {},
   "outputs": [],
   "source": []
  },
  {
   "cell_type": "code",
   "execution_count": null,
   "id": "4a6c3c9f",
   "metadata": {},
   "outputs": [],
   "source": []
  },
  {
   "cell_type": "markdown",
   "id": "b24e2270",
   "metadata": {},
   "source": [
    "# "
   ]
  },
  {
   "cell_type": "markdown",
   "id": "aaf2ef4d",
   "metadata": {},
   "source": [
    "# "
   ]
  },
  {
   "cell_type": "markdown",
   "id": "2bca0a5b",
   "metadata": {},
   "source": [
    "# Abstraction "
   ]
  },
  {
   "cell_type": "code",
   "execution_count": 1,
   "id": "949a8cb2",
   "metadata": {},
   "outputs": [],
   "source": [
    "from abc import abstractmethod, ABC"
   ]
  },
  {
   "cell_type": "code",
   "execution_count": 2,
   "id": "0b733fce",
   "metadata": {},
   "outputs": [],
   "source": [
    "class beverage(ABC):\n",
    "    @abstractmethod\n",
    "    def ingredients(self):\n",
    "        print('base')\n",
    "    def taste(self):\n",
    "        pass"
   ]
  },
  {
   "cell_type": "code",
   "execution_count": 3,
   "id": "88faec84",
   "metadata": {},
   "outputs": [
    {
     "ename": "TypeError",
     "evalue": "Can't instantiate abstract class beverage with abstract methods ingredients",
     "output_type": "error",
     "traceback": [
      "\u001b[0;31m---------------------------------------------------------------------------\u001b[0m",
      "\u001b[0;31mTypeError\u001b[0m                                 Traceback (most recent call last)",
      "\u001b[0;32m<ipython-input-3-570ae97a100b>\u001b[0m in \u001b[0;36m<module>\u001b[0;34m\u001b[0m\n\u001b[0;32m----> 1\u001b[0;31m \u001b[0mobj\u001b[0m \u001b[0;34m=\u001b[0m \u001b[0mbeverage\u001b[0m\u001b[0;34m(\u001b[0m\u001b[0;34m)\u001b[0m\u001b[0;34m\u001b[0m\u001b[0;34m\u001b[0m\u001b[0m\n\u001b[0m",
      "\u001b[0;31mTypeError\u001b[0m: Can't instantiate abstract class beverage with abstract methods ingredients"
     ]
    }
   ],
   "source": [
    "obj = beverage()"
   ]
  },
  {
   "cell_type": "code",
   "execution_count": 4,
   "id": "2641b878",
   "metadata": {},
   "outputs": [],
   "source": [
    "# derived class 1\n",
    "class mango_shake(beverage):\n",
    "    def ingredients(self):\n",
    "        print('Mango, Milk and Sugar')\n",
    "        \n",
    "    def taste(self):\n",
    "        print('Yumm!!')"
   ]
  },
  {
   "cell_type": "code",
   "execution_count": 5,
   "id": "2a00aee7",
   "metadata": {},
   "outputs": [],
   "source": [
    "# derived class 1\n",
    "class orange_juice(beverage):\n",
    "    def ingredients(self):\n",
    "        print('Orange, Water and Sugar')\n",
    "        \n",
    "    def taste(self):\n",
    "        print('Sweet!!')"
   ]
  },
  {
   "cell_type": "code",
   "execution_count": 6,
   "id": "170925e1",
   "metadata": {},
   "outputs": [
    {
     "name": "stdout",
     "output_type": "stream",
     "text": [
      "Mango, Milk and Sugar\n",
      "Yumm!!\n"
     ]
    }
   ],
   "source": [
    "obj1 = mango_shake()\n",
    "obj1.ingredients()\n",
    "obj1.taste()"
   ]
  },
  {
   "cell_type": "code",
   "execution_count": 7,
   "id": "3c0c9b39",
   "metadata": {},
   "outputs": [
    {
     "name": "stdout",
     "output_type": "stream",
     "text": [
      "Orange, Water and Sugar\n",
      "Sweet!!\n"
     ]
    }
   ],
   "source": [
    "obj2 = orange_juice()\n",
    "obj2.ingredients()\n",
    "obj2.taste()"
   ]
  },
  {
   "cell_type": "code",
   "execution_count": null,
   "id": "15edba49",
   "metadata": {},
   "outputs": [],
   "source": []
  }
 ],
 "metadata": {
  "kernelspec": {
   "display_name": "Python 3",
   "language": "python",
   "name": "python3"
  },
  "language_info": {
   "codemirror_mode": {
    "name": "ipython",
    "version": 3
   },
   "file_extension": ".py",
   "mimetype": "text/x-python",
   "name": "python",
   "nbconvert_exporter": "python",
   "pygments_lexer": "ipython3",
   "version": "3.8.2"
  }
 },
 "nbformat": 4,
 "nbformat_minor": 5
}
