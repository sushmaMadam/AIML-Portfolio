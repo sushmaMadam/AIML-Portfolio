{
 "cells": [
  {
   "cell_type": "markdown",
   "id": "1ad9d008",
   "metadata": {},
   "source": [
    "# Clasess & Objects"
   ]
  },
  {
   "cell_type": "code",
   "execution_count": 1,
   "id": "b199d024",
   "metadata": {},
   "outputs": [],
   "source": [
    "class demo :\n",
    "    pass"
   ]
  },
  {
   "cell_type": "code",
   "execution_count": 2,
   "id": "4008f8d0",
   "metadata": {},
   "outputs": [],
   "source": [
    "obj = demo()"
   ]
  },
  {
   "cell_type": "code",
   "execution_count": 3,
   "id": "17dee415",
   "metadata": {},
   "outputs": [
    {
     "name": "stdout",
     "output_type": "stream",
     "text": [
      "<__main__.demo object at 0x0000024218E9C410>\n"
     ]
    }
   ],
   "source": [
    "print(obj)"
   ]
  },
  {
   "cell_type": "code",
   "execution_count": 4,
   "id": "82fcc6f8",
   "metadata": {},
   "outputs": [
    {
     "name": "stdout",
     "output_type": "stream",
     "text": [
      "Help on demo in module __main__ object:\n",
      "\n",
      "class demo(builtins.object)\n",
      " |  Data descriptors defined here:\n",
      " |  \n",
      " |  __dict__\n",
      " |      dictionary for instance variables (if defined)\n",
      " |  \n",
      " |  __weakref__\n",
      " |      list of weak references to the object (if defined)\n",
      "\n"
     ]
    }
   ],
   "source": [
    "help(obj)"
   ]
  },
  {
   "cell_type": "markdown",
   "id": "e56b1e59",
   "metadata": {},
   "source": [
    "## Attributes & Methods"
   ]
  },
  {
   "cell_type": "code",
   "execution_count": 5,
   "id": "c041489d",
   "metadata": {},
   "outputs": [],
   "source": [
    "class Health :\n",
    "    '''This is class \"Health\" with information and functions related with our health. '''\n",
    "    # __init__ function \n",
    "    def __init__(self, name, age, loc):\n",
    "        '''\n",
    "        Initialization of Health class.\n",
    "        '''\n",
    "        self.name = name\n",
    "        self.age = age\n",
    "        self.location = loc\n",
    "        \n",
    "    # another method to display data \n",
    "    def print_info(self):\n",
    "        print('Individual Helath Information :')\n",
    "        print('Name     : ', self.name)\n",
    "        print('Age      : ', self.age)\n",
    "        print('Location : ', self.location)"
   ]
  },
  {
   "cell_type": "code",
   "execution_count": 6,
   "id": "2b5f5e03",
   "metadata": {},
   "outputs": [],
   "source": [
    "h1 = Health('John Davis', 54, 'Texas')"
   ]
  },
  {
   "cell_type": "code",
   "execution_count": 7,
   "id": "bb7a9018",
   "metadata": {},
   "outputs": [
    {
     "name": "stdout",
     "output_type": "stream",
     "text": [
      "Individual Helath Information :\n",
      "Name     :  John Davis\n",
      "Age      :  54\n",
      "Location :  Texas\n"
     ]
    }
   ],
   "source": [
    "h1.print_info()"
   ]
  },
  {
   "cell_type": "markdown",
   "id": "67ea4c27",
   "metadata": {},
   "source": [
    "## Data attributes & class attributes"
   ]
  },
  {
   "cell_type": "code",
   "execution_count": 8,
   "id": "dcd82f04",
   "metadata": {},
   "outputs": [],
   "source": [
    "class Health :\n",
    "    '''This is class \"Health\" with information and functions related with our health. '''\n",
    "    # class attribute\n",
    "    counter = 0\n",
    "    \n",
    "    # __init__ function \n",
    "    def __init__(self, name, age, loc):\n",
    "        '''\n",
    "        Initialization of Health class.\n",
    "        '''\n",
    "        self.name = name\n",
    "        self.age = age\n",
    "        self.location = loc\n",
    "        Health.counter += 1\n",
    "        \n",
    "    # another method to display data \n",
    "    def print_info(self):\n",
    "        print('Individual Information :')\n",
    "        print('Name     : ', self.name)\n",
    "        print('Age      : ', self.age)\n",
    "        print('Location : ', self.location)\n",
    "        print('No. of Objects : ', Health.counter)"
   ]
  },
  {
   "cell_type": "code",
   "execution_count": 9,
   "id": "d677757a",
   "metadata": {},
   "outputs": [],
   "source": [
    "obj_1 = Health('John Davis', 54, 'Texas')"
   ]
  },
  {
   "cell_type": "code",
   "execution_count": 10,
   "id": "71983781",
   "metadata": {},
   "outputs": [
    {
     "name": "stdout",
     "output_type": "stream",
     "text": [
      "Individual Information :\n",
      "Name     :  John Davis\n",
      "Age      :  54\n",
      "Location :  Texas\n",
      "No. of Objects :  1\n"
     ]
    }
   ],
   "source": [
    "obj_1.print_info()"
   ]
  },
  {
   "cell_type": "code",
   "execution_count": 11,
   "id": "3fecd0d7",
   "metadata": {},
   "outputs": [],
   "source": [
    "obj_2 = Health('Dave Jones', 31, 'NewYork')"
   ]
  },
  {
   "cell_type": "code",
   "execution_count": 12,
   "id": "17040544",
   "metadata": {},
   "outputs": [
    {
     "name": "stdout",
     "output_type": "stream",
     "text": [
      "Individual Information :\n",
      "Name     :  Dave Jones\n",
      "Age      :  31\n",
      "Location :  NewYork\n",
      "No. of Objects :  2\n"
     ]
    }
   ],
   "source": [
    "obj_2.print_info()"
   ]
  },
  {
   "cell_type": "markdown",
   "id": "d517a798",
   "metadata": {},
   "source": [
    "## Access Data & Class Attributes"
   ]
  },
  {
   "cell_type": "code",
   "execution_count": 13,
   "id": "ccb1f9ab",
   "metadata": {},
   "outputs": [
    {
     "data": {
      "text/plain": [
       "('John Davis', 54)"
      ]
     },
     "execution_count": 13,
     "metadata": {},
     "output_type": "execute_result"
    }
   ],
   "source": [
    "obj_1.name, obj_1.age"
   ]
  },
  {
   "cell_type": "code",
   "execution_count": 14,
   "id": "09a82868",
   "metadata": {},
   "outputs": [
    {
     "data": {
      "text/plain": [
       "('Dave Jones', 31)"
      ]
     },
     "execution_count": 14,
     "metadata": {},
     "output_type": "execute_result"
    }
   ],
   "source": [
    "obj_2.name, obj_2.age"
   ]
  },
  {
   "cell_type": "code",
   "execution_count": 15,
   "id": "00e32322",
   "metadata": {},
   "outputs": [
    {
     "data": {
      "text/plain": [
       "(2, 2)"
      ]
     },
     "execution_count": 15,
     "metadata": {},
     "output_type": "execute_result"
    }
   ],
   "source": [
    "obj_1.counter , obj_2.counter"
   ]
  },
  {
   "cell_type": "markdown",
   "id": "b93e6723",
   "metadata": {
    "tags": []
   },
   "source": [
    "## Data Attributes vs Class Attributes "
   ]
  },
  {
   "cell_type": "code",
   "execution_count": 16,
   "id": "cad4bfda",
   "metadata": {},
   "outputs": [
    {
     "data": {
      "text/plain": [
       "False"
      ]
     },
     "execution_count": 16,
     "metadata": {},
     "output_type": "execute_result"
    }
   ],
   "source": [
    "obj_1.name is obj_2.name"
   ]
  },
  {
   "cell_type": "code",
   "execution_count": 17,
   "id": "4f7b8470",
   "metadata": {},
   "outputs": [
    {
     "data": {
      "text/plain": [
       "True"
      ]
     },
     "execution_count": 17,
     "metadata": {},
     "output_type": "execute_result"
    }
   ],
   "source": [
    "obj_1.counter is obj_2.counter"
   ]
  },
  {
   "cell_type": "code",
   "execution_count": null,
   "id": "eff8896c",
   "metadata": {},
   "outputs": [],
   "source": []
  },
  {
   "cell_type": "markdown",
   "id": "5b6d490e",
   "metadata": {
    "tags": []
   },
   "source": [
    "# Access Modifiers"
   ]
  },
  {
   "cell_type": "code",
   "execution_count": 18,
   "id": "b34e873d",
   "metadata": {},
   "outputs": [],
   "source": [
    "\n",
    "class student :\n",
    "    counter = 0\n",
    "    # constructor\n",
    "    def __init__(self, name, fathersname, age):\n",
    "        self.name = name\n",
    "        self.fathersname = fathersname\n",
    "        self.age = age\n",
    "        student.counter +=1\n",
    "        self._roll_no = 'A2022/{}/{:003d}'.format(self.name[:3].upper() ,student.counter)\n",
    "        self.__file_no = 'A2022/{}/{:003d}'.format(self.name.upper() ,student.counter)\n",
    "    def print_info(self):\n",
    "        print('Name          : ', self.name)\n",
    "        print(\"Father's Name : \",self.fathersname )\n",
    "        print(\"Age           : \", self.age)\n",
    "        print(\"Roll No.      : \", self._roll_no)\n",
    "        print(\"File No.      : \", self.__file_no)"
   ]
  },
  {
   "cell_type": "code",
   "execution_count": 19,
   "id": "c11162ac",
   "metadata": {},
   "outputs": [],
   "source": [
    "st1 = student('John Davis', 'Malcom Davis', 10)"
   ]
  },
  {
   "cell_type": "code",
   "execution_count": 20,
   "id": "356a83de",
   "metadata": {},
   "outputs": [
    {
     "name": "stdout",
     "output_type": "stream",
     "text": [
      "Name          :  John Davis\n",
      "Father's Name :  Malcom Davis\n",
      "Age           :  10\n",
      "Roll No.      :  A2022/JOH/001\n",
      "File No.      :  A2022/JOHN DAVIS/001\n"
     ]
    }
   ],
   "source": [
    "st1.print_info()"
   ]
  },
  {
   "cell_type": "code",
   "execution_count": 21,
   "id": "d7d0e3c9",
   "metadata": {},
   "outputs": [],
   "source": [
    "class science(student):\n",
    "    def display(self):\n",
    "        print('Name          : ', self.name)\n",
    "        print(\"Father's Name : \",self.fathersname )\n",
    "        print(\"Age           : \", self.age)\n",
    "        print(\"Roll No.      : \", self._roll_no)\n",
    "        print(\"File No.      : \", self.__file_no)\n",
    "        "
   ]
  },
  {
   "cell_type": "code",
   "execution_count": 22,
   "id": "8d4cb4ef",
   "metadata": {},
   "outputs": [],
   "source": [
    "sci_st = science('John Davis', 'Malcom Davis', 15)"
   ]
  },
  {
   "cell_type": "code",
   "execution_count": 23,
   "id": "9cd2f90d",
   "metadata": {},
   "outputs": [
    {
     "name": "stdout",
     "output_type": "stream",
     "text": [
      "Name          :  John Davis\n",
      "Father's Name :  Malcom Davis\n",
      "Age           :  15\n",
      "Roll No.      :  A2022/JOH/002\n",
      "File No.      :  A2022/JOHN DAVIS/002\n"
     ]
    }
   ],
   "source": [
    "sci_st.print_info()"
   ]
  },
  {
   "cell_type": "code",
   "execution_count": 24,
   "id": "183bd9b4",
   "metadata": {},
   "outputs": [
    {
     "name": "stdout",
     "output_type": "stream",
     "text": [
      "Name          :  John Davis\n",
      "Father's Name :  Malcom Davis\n",
      "Age           :  15\n",
      "Roll No.      :  A2022/JOH/002\n"
     ]
    },
    {
     "ename": "AttributeError",
     "evalue": "'science' object has no attribute '_science__file_no'",
     "output_type": "error",
     "traceback": [
      "\u001b[1;31m---------------------------------------------------------------------------\u001b[0m",
      "\u001b[1;31mAttributeError\u001b[0m                            Traceback (most recent call last)",
      "Cell \u001b[1;32mIn[24], line 1\u001b[0m\n\u001b[1;32m----> 1\u001b[0m \u001b[43msci_st\u001b[49m\u001b[38;5;241;43m.\u001b[39;49m\u001b[43mdisplay\u001b[49m\u001b[43m(\u001b[49m\u001b[43m)\u001b[49m\n",
      "Cell \u001b[1;32mIn[21], line 7\u001b[0m, in \u001b[0;36mscience.display\u001b[1;34m(self)\u001b[0m\n\u001b[0;32m      5\u001b[0m \u001b[38;5;28mprint\u001b[39m(\u001b[38;5;124m\"\u001b[39m\u001b[38;5;124mAge           : \u001b[39m\u001b[38;5;124m\"\u001b[39m, \u001b[38;5;28mself\u001b[39m\u001b[38;5;241m.\u001b[39mage)\n\u001b[0;32m      6\u001b[0m \u001b[38;5;28mprint\u001b[39m(\u001b[38;5;124m\"\u001b[39m\u001b[38;5;124mRoll No.      : \u001b[39m\u001b[38;5;124m\"\u001b[39m, \u001b[38;5;28mself\u001b[39m\u001b[38;5;241m.\u001b[39m_roll_no)\n\u001b[1;32m----> 7\u001b[0m \u001b[38;5;28mprint\u001b[39m(\u001b[38;5;124m\"\u001b[39m\u001b[38;5;124mFile No.      : \u001b[39m\u001b[38;5;124m\"\u001b[39m, \u001b[38;5;28;43mself\u001b[39;49m\u001b[38;5;241;43m.\u001b[39;49m\u001b[43m__file_no\u001b[49m)\n",
      "\u001b[1;31mAttributeError\u001b[0m: 'science' object has no attribute '_science__file_no'"
     ]
    }
   ],
   "source": [
    "sci_st.display()"
   ]
  },
  {
   "cell_type": "code",
   "execution_count": null,
   "id": "753595cb",
   "metadata": {},
   "outputs": [],
   "source": []
  },
  {
   "cell_type": "code",
   "execution_count": null,
   "id": "eeece25a",
   "metadata": {},
   "outputs": [],
   "source": []
  },
  {
   "cell_type": "markdown",
   "id": "ca71ccbb",
   "metadata": {},
   "source": [
    "# Inheritance"
   ]
  },
  {
   "cell_type": "code",
   "execution_count": 25,
   "id": "02094fcc",
   "metadata": {},
   "outputs": [],
   "source": [
    "class Parent :\n",
    "    def __init__(self):\n",
    "        print('Welcome to Parent Class')\n",
    "    \n",
    "    def parent_func(self):\n",
    "        print('This is the parent Function')    "
   ]
  },
  {
   "cell_type": "code",
   "execution_count": 26,
   "id": "b0b556ca",
   "metadata": {},
   "outputs": [],
   "source": [
    "class Child(Parent):\n",
    "    pass"
   ]
  },
  {
   "cell_type": "code",
   "execution_count": 27,
   "id": "1370c693",
   "metadata": {},
   "outputs": [
    {
     "name": "stdout",
     "output_type": "stream",
     "text": [
      "Welcome to Parent Class\n"
     ]
    }
   ],
   "source": [
    "obj = Child()"
   ]
  },
  {
   "cell_type": "code",
   "execution_count": 28,
   "id": "9354ce0c",
   "metadata": {},
   "outputs": [
    {
     "name": "stdout",
     "output_type": "stream",
     "text": [
      "This is the parent Function\n"
     ]
    }
   ],
   "source": [
    "obj.parent_func()"
   ]
  },
  {
   "cell_type": "markdown",
   "id": "30576faf",
   "metadata": {},
   "source": [
    "## Types of Inheritance"
   ]
  },
  {
   "cell_type": "markdown",
   "id": "1b867915",
   "metadata": {},
   "source": [
    "### Single Inheritance"
   ]
  },
  {
   "cell_type": "code",
   "execution_count": 29,
   "id": "220fcbea",
   "metadata": {},
   "outputs": [],
   "source": [
    "# base class\n",
    "class information:\n",
    "    def __init__(self, name, age, gender):\n",
    "        self.name = name\n",
    "        self.age = age\n",
    "        self.gender = gender\n",
    "    \n",
    "    def print_info(self):\n",
    "        print('Name   : ', self.name)\n",
    "        print('Age    : ', self.age)\n",
    "        print('Gender : ', self.gender)"
   ]
  },
  {
   "cell_type": "code",
   "execution_count": 30,
   "id": "be15df11",
   "metadata": {},
   "outputs": [],
   "source": [
    "# derived class\n",
    "class learners(information):\n",
    "    def set_learner_data(self, exp = None, qual = None):\n",
    "        self.qual = qual\n",
    "        self.exp = exp\n",
    "   \n",
    "    def display(self):\n",
    "        self.print_info()\n",
    "        print('Qual   : ', self.qual)\n",
    "        print('Exp    : ', self.exp)\n",
    "    "
   ]
  },
  {
   "cell_type": "code",
   "execution_count": 31,
   "id": "9e91dba4",
   "metadata": {},
   "outputs": [],
   "source": [
    "obj1 = learners('John Davis', 34, 'M')"
   ]
  },
  {
   "cell_type": "code",
   "execution_count": 32,
   "id": "38b9dc66",
   "metadata": {},
   "outputs": [
    {
     "name": "stdout",
     "output_type": "stream",
     "text": [
      "Name   :  John Davis\n",
      "Age    :  34\n",
      "Gender :  M\n"
     ]
    }
   ],
   "source": [
    "obj1.print_info()"
   ]
  },
  {
   "cell_type": "code",
   "execution_count": 33,
   "id": "d6bc0a79",
   "metadata": {},
   "outputs": [],
   "source": [
    "obj1.set_learner_data(5, 'Graduate')"
   ]
  },
  {
   "cell_type": "code",
   "execution_count": 34,
   "id": "67f6f61c",
   "metadata": {},
   "outputs": [
    {
     "name": "stdout",
     "output_type": "stream",
     "text": [
      "Name   :  John Davis\n",
      "Age    :  34\n",
      "Gender :  M\n",
      "Qual   :  Graduate\n",
      "Exp    :  5\n"
     ]
    }
   ],
   "source": [
    "obj1.display()"
   ]
  },
  {
   "cell_type": "markdown",
   "id": "dd71f5d2",
   "metadata": {},
   "source": [
    "# Multilevel Inheritance"
   ]
  },
  {
   "cell_type": "code",
   "execution_count": null,
   "id": "8ff189c4",
   "metadata": {},
   "outputs": [],
   "source": [
    "# base class\n",
    "class information:\n",
    "    def __init__(self, name, age, gender):\n",
    "        self.name = name\n",
    "        self.age = age\n",
    "        self.gender = gender\n",
    "    \n",
    "    def print_info(self):\n",
    "        print('Name   : ', self.name)\n",
    "        print('Age    : ', self.age)\n",
    "        print('Gender : ', self.gender)"
   ]
  },
  {
   "cell_type": "code",
   "execution_count": null,
   "id": "2ffc52da",
   "metadata": {},
   "outputs": [],
   "source": [
    "# derived class\n",
    "class learners(information):\n",
    "    def set_learner_data(self, exp = None, qual = None):\n",
    "        self.qual = qual\n",
    "        self.exp = exp\n",
    "   \n",
    "    def display(self):\n",
    "        self.print_info()\n",
    "        print('Qual   : ', self.qual)\n",
    "        print('Exp    : ', self.exp)"
   ]
  },
  {
   "cell_type": "code",
   "execution_count": null,
   "id": "48a5e892",
   "metadata": {},
   "outputs": [],
   "source": [
    "class profile(learners) :\n",
    "    pass"
   ]
  },
  {
   "cell_type": "code",
   "execution_count": null,
   "id": "4824ad0a",
   "metadata": {},
   "outputs": [],
   "source": [
    "obj_2 = profile('John Davis', 34, 'M')"
   ]
  },
  {
   "cell_type": "code",
   "execution_count": null,
   "id": "552fb349",
   "metadata": {},
   "outputs": [],
   "source": [
    "obj_2.print_info()"
   ]
  },
  {
   "cell_type": "code",
   "execution_count": null,
   "id": "679077cd",
   "metadata": {},
   "outputs": [],
   "source": [
    "obj_2.set_learner_data(3, 'Graduate')"
   ]
  },
  {
   "cell_type": "code",
   "execution_count": null,
   "id": "299c3953",
   "metadata": {},
   "outputs": [],
   "source": [
    "obj_2.display()"
   ]
  },
  {
   "cell_type": "markdown",
   "id": "664bbf28",
   "metadata": {},
   "source": [
    "## Hierarchical Inheritance"
   ]
  },
  {
   "cell_type": "code",
   "execution_count": null,
   "id": "afa8ddeb",
   "metadata": {},
   "outputs": [],
   "source": [
    "# base class\n",
    "class information:\n",
    "    def __init__(self, name, age, gender):\n",
    "        self.name = name\n",
    "        self.age = age\n",
    "        self.gender = gender\n",
    "    \n",
    "    def print_info(self):\n",
    "        print('Name   : ', self.name)\n",
    "        print('Age    : ', self.age)\n",
    "        print('Gender : ', self.gender)"
   ]
  },
  {
   "cell_type": "code",
   "execution_count": null,
   "id": "179aa9db",
   "metadata": {},
   "outputs": [],
   "source": [
    "# derived class 1\n",
    "class learners(information):\n",
    "    def set_learner_data(self, exp = None, qual = None):\n",
    "        self.qual = qual\n",
    "        self.exp = exp\n",
    "   \n",
    "    def display(self):\n",
    "        self.print_info()\n",
    "        print('Qual   : ', self.qual)\n",
    "        print('Exp    : ', self.exp)"
   ]
  },
  {
   "cell_type": "code",
   "execution_count": null,
   "id": "8d4cbe10",
   "metadata": {},
   "outputs": [],
   "source": [
    "# derived class 2\n",
    "class trainer(information):\n",
    "    def set_trainer_data(self, exp, charges ):\n",
    "        self.exp = exp\n",
    "        self.charges = charges\n",
    "    \n",
    "    def display_trainer(self):\n",
    "        self.print_info()\n",
    "        print('Experience        : ', self.exp)\n",
    "        print('Hourly Charges    : ', self.charges)"
   ]
  },
  {
   "cell_type": "code",
   "execution_count": null,
   "id": "e50a3ad0",
   "metadata": {},
   "outputs": [],
   "source": [
    "obj_learner = learners('John Davis', 21, 'M')\n",
    "obj_learner.set_learner_data(3, 'Graduate')"
   ]
  },
  {
   "cell_type": "code",
   "execution_count": null,
   "id": "87ed7b9f",
   "metadata": {},
   "outputs": [],
   "source": [
    "obj_learner.print_info()"
   ]
  },
  {
   "cell_type": "code",
   "execution_count": null,
   "id": "dee5e782",
   "metadata": {},
   "outputs": [],
   "source": [
    "obj_learner.display()"
   ]
  },
  {
   "cell_type": "code",
   "execution_count": null,
   "id": "35fdda60",
   "metadata": {},
   "outputs": [],
   "source": [
    "obj_trainer = trainer('Michael Dave', 43, 'Doctrate')\n",
    "obj_trainer.set_trainer_data(15, 3500)"
   ]
  },
  {
   "cell_type": "code",
   "execution_count": null,
   "id": "68386c26",
   "metadata": {},
   "outputs": [],
   "source": [
    "obj_trainer.print_info()"
   ]
  },
  {
   "cell_type": "code",
   "execution_count": null,
   "id": "e8eb3fc7",
   "metadata": {},
   "outputs": [],
   "source": [
    "obj_trainer.display_trainer()"
   ]
  },
  {
   "cell_type": "markdown",
   "id": "d755d8f0",
   "metadata": {},
   "source": [
    "## Multiple Inheritance"
   ]
  },
  {
   "cell_type": "code",
   "execution_count": null,
   "id": "54827a90",
   "metadata": {},
   "outputs": [],
   "source": [
    "# base class 1\n",
    "class information:\n",
    "    def __init__(self, name, age, gender):\n",
    "        self.name = name\n",
    "        self.age = age\n",
    "        self.gender = gender\n",
    "    \n",
    "    def print_info(self):\n",
    "        print('Name   : ', self.name)\n",
    "        print('Age    : ', self.age)\n",
    "        print('Gender : ', self.gender)"
   ]
  },
  {
   "cell_type": "code",
   "execution_count": null,
   "id": "42cd435f",
   "metadata": {},
   "outputs": [],
   "source": [
    "# base class 2\n",
    "class course_inf:\n",
    "    def __init__(self):\n",
    "        self.inf = {'Weekend' : {'Big Data & AI':12, \n",
    "                                'Cloud Computing' : 8,\n",
    "                                'Data Science with Python' :6,\n",
    "                                'Data Science with R' : 5 },\n",
    "                   'Weekday' : {'Big Data & AI':6, \n",
    "                                'Cloud Computing' : 5,\n",
    "                                'Data Science with Python': 3,\n",
    "                                'Data Science with R' : 2.5 }}"
   ]
  },
  {
   "cell_type": "code",
   "execution_count": null,
   "id": "64e0bb86",
   "metadata": {},
   "outputs": [],
   "source": [
    "# derived class\n",
    "class learners(information, course_inf):\n",
    "    \n",
    "    def __init__(self,name, age, gender,course, pref):\n",
    "        information.__init__(self, name, age, gender)\n",
    "        course_inf.__init__(self)\n",
    "        self.course = course\n",
    "        self.pref = pref\n",
    "        \n",
    "    def display(self):\n",
    "        information.print_info(self)\n",
    "        print('Course : ', self.course)\n",
    "        print('Pref   : ', self.pref)\n",
    "        weeks = self.inf[self.pref][self.course]\n",
    "        print('# of Weeks : ', weeks)"
   ]
  },
  {
   "cell_type": "code",
   "execution_count": null,
   "id": "f32324a2",
   "metadata": {},
   "outputs": [],
   "source": [
    "obj_learn = learners('Ava Jones', 33, 'F', 'Data Science with R', 'Weekend')\n",
    "\n",
    "obj_learn.display()"
   ]
  },
  {
   "cell_type": "code",
   "execution_count": null,
   "id": "038abe08",
   "metadata": {},
   "outputs": [],
   "source": [
    "obj_learn.inf"
   ]
  },
  {
   "cell_type": "markdown",
   "id": "69964d66",
   "metadata": {},
   "source": [
    "# "
   ]
  },
  {
   "cell_type": "markdown",
   "id": "cae30ba1",
   "metadata": {},
   "source": [
    "# "
   ]
  },
  {
   "cell_type": "markdown",
   "id": "a22c251e",
   "metadata": {},
   "source": [
    "# Polymorphism\n",
    "## Method Overloading"
   ]
  },
  {
   "cell_type": "code",
   "execution_count": null,
   "id": "8236418d",
   "metadata": {},
   "outputs": [],
   "source": [
    "class information:\n",
    "    def __init__(self, name, age, gender):\n",
    "        self.name = name\n",
    "        self.age = age\n",
    "        self.gender = gender\n",
    "    \n",
    "    def print_info(self):\n",
    "        print('Name   : ', self.name)\n",
    "        print('Age    : ', self.age)\n",
    "        print('Gender : ', self.gender)"
   ]
  },
  {
   "cell_type": "code",
   "execution_count": null,
   "id": "d5956296",
   "metadata": {},
   "outputs": [],
   "source": [
    "class learners:\n",
    "    def __init__(self, name, age, gender, exp, qual):\n",
    "        self.name = name\n",
    "        self.age = age\n",
    "        self.gender = gender\n",
    "        self.qual = qual\n",
    "        self.exp = exp\n",
    "   \n",
    "    def print_info(self):\n",
    "        print('Name\\t: ', self.name)\n",
    "        print('Age\\t: ', self.age)\n",
    "        print('Gender\\t: ', self.gender)\n",
    "        print('Qual   : ', self.qual)\n",
    "        print('Exp    : ', self.exp)"
   ]
  },
  {
   "cell_type": "code",
   "execution_count": null,
   "id": "a876bb04",
   "metadata": {},
   "outputs": [],
   "source": [
    "obj1 = information('John Davis', 34, 'M' )\n",
    "obj2 = learners('John Davis', 34, 'M', 3.5, 'Graduate')"
   ]
  },
  {
   "cell_type": "code",
   "execution_count": null,
   "id": "77da4030",
   "metadata": {},
   "outputs": [],
   "source": [
    "obj1.print_info()"
   ]
  },
  {
   "cell_type": "code",
   "execution_count": null,
   "id": "436f15c1",
   "metadata": {},
   "outputs": [],
   "source": [
    "obj2.print_info()"
   ]
  },
  {
   "cell_type": "markdown",
   "id": "724d29ff",
   "metadata": {},
   "source": [
    "## Operator Overloading"
   ]
  },
  {
   "cell_type": "code",
   "execution_count": null,
   "id": "963e1508",
   "metadata": {},
   "outputs": [],
   "source": [
    "x = 8; y = 15\n",
    "x + y"
   ]
  },
  {
   "cell_type": "code",
   "execution_count": null,
   "id": "071967b0",
   "metadata": {},
   "outputs": [],
   "source": [
    "x = 'FirstName' \n",
    "y = 'LastName'\n",
    "x + ' ' + y"
   ]
  },
  {
   "cell_type": "markdown",
   "id": "d45cfc5c",
   "metadata": {},
   "source": [
    "## Method Overriding"
   ]
  },
  {
   "cell_type": "code",
   "execution_count": null,
   "id": "b44dc2b0",
   "metadata": {},
   "outputs": [],
   "source": [
    "class information:\n",
    "    def __init__(self, name, age, gender):\n",
    "        self.name = name\n",
    "        self.age = age\n",
    "        self.gender = gender\n",
    "    \n",
    "    def print_info(self):\n",
    "        print('Name   : ', self.name)\n",
    "        print('Age    : ', self.age)\n",
    "        print('Gender : ', self.gender)"
   ]
  },
  {
   "cell_type": "code",
   "execution_count": null,
   "id": "e79fc963",
   "metadata": {},
   "outputs": [],
   "source": [
    "class learners(information):\n",
    "    def __init__(self, name, age, gender, exp, qual):\n",
    "        information.__init__(self, name, age, gender)\n",
    "        self.qual = qual\n",
    "        self.exp = exp\n",
    "   \n",
    "    def print_info(self):\n",
    "        '''print_info function of derived class overrides the print_info function of parent class'''\n",
    "        print('Qual   : ', self.qual)\n",
    "        print('Exp    : ', self.exp)"
   ]
  },
  {
   "cell_type": "code",
   "execution_count": null,
   "id": "e9a0e390",
   "metadata": {},
   "outputs": [],
   "source": [
    "obj = learners('John Davis', 45, 'M', 4.5, 'Graduate')"
   ]
  },
  {
   "cell_type": "code",
   "execution_count": null,
   "id": "fe8d3a0d",
   "metadata": {},
   "outputs": [],
   "source": [
    "obj.print_info()"
   ]
  },
  {
   "cell_type": "code",
   "execution_count": null,
   "id": "f5415356",
   "metadata": {},
   "outputs": [],
   "source": [
    "class learners(information):\n",
    "    def __init__(self, name, age, gender, exp, qual):\n",
    "        information.__init__(self, name, age, gender)\n",
    "        self.qual = qual\n",
    "        self.exp = exp\n",
    "   \n",
    "    def print_info(self):\n",
    "        '''\n",
    "        print_info function of derived class overrides the print_info function of parent class. \n",
    "        To use the print ifno function of parent class, the function needs to be invoked explicitly.\n",
    "        '''\n",
    "        information.print_info(self)\n",
    "        print('Qual   : ', self.qual)\n",
    "        print('Exp    : ', self.exp)"
   ]
  },
  {
   "cell_type": "code",
   "execution_count": null,
   "id": "d89dcf9c",
   "metadata": {},
   "outputs": [],
   "source": [
    "obj = learners('John Davis', 45, 'M', 4.5, 'Graduate')"
   ]
  },
  {
   "cell_type": "code",
   "execution_count": null,
   "id": "15549f8f",
   "metadata": {},
   "outputs": [],
   "source": [
    "obj.print_info()"
   ]
  },
  {
   "cell_type": "code",
   "execution_count": null,
   "id": "cdcc25ea",
   "metadata": {},
   "outputs": [],
   "source": []
  },
  {
   "cell_type": "code",
   "execution_count": null,
   "id": "4a6c3c9f",
   "metadata": {},
   "outputs": [],
   "source": []
  },
  {
   "cell_type": "markdown",
   "id": "b24e2270",
   "metadata": {},
   "source": [
    "# "
   ]
  },
  {
   "cell_type": "markdown",
   "id": "aaf2ef4d",
   "metadata": {},
   "source": [
    "# "
   ]
  },
  {
   "cell_type": "markdown",
   "id": "2bca0a5b",
   "metadata": {},
   "source": [
    "# Abstraction "
   ]
  },
  {
   "cell_type": "code",
   "execution_count": 36,
   "id": "949a8cb2",
   "metadata": {},
   "outputs": [],
   "source": [
    "from abc import abstractmethod, ABC"
   ]
  },
  {
   "cell_type": "code",
   "execution_count": 37,
   "id": "0b733fce",
   "metadata": {},
   "outputs": [],
   "source": [
    "class beverage(ABC):\n",
    "    @abstractmethod\n",
    "    def ingredients(self):\n",
    "        print('base')\n",
    "    def taste(self):\n",
    "        pass"
   ]
  },
  {
   "cell_type": "code",
   "execution_count": 38,
   "id": "88faec84",
   "metadata": {},
   "outputs": [
    {
     "ename": "TypeError",
     "evalue": "Can't instantiate abstract class beverage with abstract method ingredients",
     "output_type": "error",
     "traceback": [
      "\u001b[1;31m---------------------------------------------------------------------------\u001b[0m",
      "\u001b[1;31mTypeError\u001b[0m                                 Traceback (most recent call last)",
      "Cell \u001b[1;32mIn[38], line 1\u001b[0m\n\u001b[1;32m----> 1\u001b[0m obj \u001b[38;5;241m=\u001b[39m \u001b[43mbeverage\u001b[49m\u001b[43m(\u001b[49m\u001b[43m)\u001b[49m\n",
      "\u001b[1;31mTypeError\u001b[0m: Can't instantiate abstract class beverage with abstract method ingredients"
     ]
    }
   ],
   "source": [
    "obj = beverage()"
   ]
  },
  {
   "cell_type": "code",
   "execution_count": 39,
   "id": "2641b878",
   "metadata": {},
   "outputs": [],
   "source": [
    "# derived class 1\n",
    "class mango_shake(beverage):\n",
    "    def ingredients(self):\n",
    "        print('Mango, Milk and Sugar')\n",
    "        \n",
    "    def taste(self):\n",
    "        print('Yumm!!')"
   ]
  },
  {
   "cell_type": "code",
   "execution_count": 40,
   "id": "2a00aee7",
   "metadata": {},
   "outputs": [],
   "source": [
    "# derived class 1\n",
    "class orange_juice(beverage):\n",
    "    def ingredients(self):\n",
    "        print('Orange, Water and Sugar')\n",
    "        \n",
    "    def taste(self):\n",
    "        print('Sweet!!')"
   ]
  },
  {
   "cell_type": "code",
   "execution_count": 41,
   "id": "170925e1",
   "metadata": {},
   "outputs": [
    {
     "name": "stdout",
     "output_type": "stream",
     "text": [
      "Mango, Milk and Sugar\n",
      "Yumm!!\n"
     ]
    }
   ],
   "source": [
    "obj1 = mango_shake()\n",
    "obj1.ingredients()\n",
    "obj1.taste()"
   ]
  },
  {
   "cell_type": "code",
   "execution_count": 42,
   "id": "3c0c9b39",
   "metadata": {},
   "outputs": [
    {
     "name": "stdout",
     "output_type": "stream",
     "text": [
      "Orange, Water and Sugar\n",
      "Sweet!!\n"
     ]
    }
   ],
   "source": [
    "obj2 = orange_juice()\n",
    "obj2.ingredients()\n",
    "obj2.taste()"
   ]
  },
  {
   "cell_type": "code",
   "execution_count": null,
   "id": "15edba49",
   "metadata": {},
   "outputs": [],
   "source": []
  }
 ],
 "metadata": {
  "kernelspec": {
   "display_name": "Python 3 (ipykernel)",
   "language": "python",
   "name": "python3"
  },
  "language_info": {
   "codemirror_mode": {
    "name": "ipython",
    "version": 3
   },
   "file_extension": ".py",
   "mimetype": "text/x-python",
   "name": "python",
   "nbconvert_exporter": "python",
   "pygments_lexer": "ipython3",
   "version": "3.11.6"
  }
 },
 "nbformat": 4,
 "nbformat_minor": 5
}
