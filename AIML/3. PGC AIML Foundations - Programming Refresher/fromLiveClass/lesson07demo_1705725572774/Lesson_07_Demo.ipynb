{
 "cells": [
  {
   "cell_type": "markdown",
   "id": "6feba87e",
   "metadata": {},
   "source": [
    "# Clasess & Objects"
   ]
  },
  {
   "cell_type": "code",
   "execution_count": null,
   "id": "eb34a02f",
   "metadata": {},
   "outputs": [],
   "source": [
    "class demo :\n",
    "    pass"
   ]
  },
  {
   "cell_type": "code",
   "execution_count": null,
   "id": "d21f830a",
   "metadata": {},
   "outputs": [],
   "source": [
    "obj = demo()"
   ]
  },
  {
   "cell_type": "code",
   "execution_count": null,
   "id": "8e02309d",
   "metadata": {},
   "outputs": [],
   "source": [
    "print(obj)"
   ]
  },
  {
   "cell_type": "code",
   "execution_count": null,
   "id": "8f5ab4aa",
   "metadata": {},
   "outputs": [],
   "source": [
    "help(obj)"
   ]
  },
  {
   "cell_type": "markdown",
   "id": "6245d3f7",
   "metadata": {},
   "source": [
    "## Attributes & Methods"
   ]
  },
  {
   "cell_type": "code",
   "execution_count": null,
   "id": "4d3f26e4",
   "metadata": {},
   "outputs": [],
   "source": [
    "class Health :\n",
    "    '''This is class \"Health\" with information and functions related with our health. '''\n",
    "    # __init__ function \n",
    "    def __init__(self, name, age, loc):\n",
    "        '''\n",
    "        Initialization of Health class.\n",
    "        '''\n",
    "        self.name = name\n",
    "        self.age = age\n",
    "        self.location = loc\n",
    "        \n",
    "    # another method to display data \n",
    "    def print_info(self):\n",
    "        print('Individual Helath Information :')\n",
    "        print('Name     : ', self.name)\n",
    "        print('Age      : ', self.age)\n",
    "        print('Location : ', self.location)"
   ]
  },
  {
   "cell_type": "code",
   "execution_count": null,
   "id": "060c7bb3",
   "metadata": {},
   "outputs": [],
   "source": [
    "h1 = Health('John Davis', 54, 'Texas')"
   ]
  },
  {
   "cell_type": "code",
   "execution_count": null,
   "id": "0f12d92b",
   "metadata": {},
   "outputs": [],
   "source": [
    "h1.print_info()"
   ]
  },
  {
   "cell_type": "markdown",
   "id": "588ad514",
   "metadata": {},
   "source": [
    "## Data attributes & class attributes"
   ]
  },
  {
   "cell_type": "code",
   "execution_count": null,
   "id": "0a136377",
   "metadata": {},
   "outputs": [],
   "source": [
    "class Health :\n",
    "    '''This is class \"Health\" with information and functions related with our health. '''\n",
    "    # class attribute\n",
    "    counter = 0\n",
    "    \n",
    "    # __init__ function \n",
    "    def __init__(self, name, age, loc):\n",
    "        '''\n",
    "        Initialization of Health class.\n",
    "        '''\n",
    "        self.name = name\n",
    "        self.age = age\n",
    "        self.location = loc\n",
    "        Health.counter += 1\n",
    "        \n",
    "    # another method to display data \n",
    "    def print_info(self):\n",
    "        print('Individual Information :')\n",
    "        print('Name     : ', self.name)\n",
    "        print('Age      : ', self.age)\n",
    "        print('Location : ', self.location)\n",
    "        print('No. of Objects : ', Health.counter)"
   ]
  },
  {
   "cell_type": "code",
   "execution_count": null,
   "id": "516b578c",
   "metadata": {},
   "outputs": [],
   "source": [
    "obj_1 = Health('John Davis', 54, 'Texas')"
   ]
  },
  {
   "cell_type": "code",
   "execution_count": null,
   "id": "33f783fd",
   "metadata": {},
   "outputs": [],
   "source": [
    "obj_1.print_info()"
   ]
  },
  {
   "cell_type": "code",
   "execution_count": null,
   "id": "821fa856",
   "metadata": {},
   "outputs": [],
   "source": [
    "obj_2 = Health('Dave Jones', 31, 'NewYork')"
   ]
  },
  {
   "cell_type": "code",
   "execution_count": null,
   "id": "950dae0a",
   "metadata": {},
   "outputs": [],
   "source": [
    "obj_2.print_info()"
   ]
  },
  {
   "cell_type": "markdown",
   "id": "fb6a6798",
   "metadata": {},
   "source": [
    "## Access Data & Class Attributes"
   ]
  },
  {
   "cell_type": "code",
   "execution_count": null,
   "id": "fe3aa8cd",
   "metadata": {},
   "outputs": [],
   "source": [
    "obj_1.name, obj_1.age"
   ]
  },
  {
   "cell_type": "code",
   "execution_count": null,
   "id": "6f18361a",
   "metadata": {},
   "outputs": [],
   "source": [
    "obj_2.name, obj_2.age"
   ]
  },
  {
   "cell_type": "code",
   "execution_count": null,
   "id": "35edc3ea",
   "metadata": {},
   "outputs": [],
   "source": [
    "obj_1.counter , obj_2.counter"
   ]
  },
  {
   "cell_type": "markdown",
   "id": "49348ab2",
   "metadata": {
    "tags": []
   },
   "source": [
    "## Data Attributes vs Class Attributes "
   ]
  },
  {
   "cell_type": "code",
   "execution_count": null,
   "id": "28e3e29d",
   "metadata": {},
   "outputs": [],
   "source": [
    "obj_1.name is obj_2.name"
   ]
  },
  {
   "cell_type": "code",
   "execution_count": null,
   "id": "ba288ae2",
   "metadata": {},
   "outputs": [],
   "source": [
    "obj_1.counter is obj_2.counter"
   ]
  },
  {
   "cell_type": "code",
   "execution_count": null,
   "id": "2a7dcc75",
   "metadata": {},
   "outputs": [],
   "source": []
  },
  {
   "cell_type": "markdown",
   "id": "8d323a8c",
   "metadata": {
    "tags": []
   },
   "source": [
    "# Access Modifiers"
   ]
  },
  {
   "cell_type": "code",
   "execution_count": null,
   "id": "c77a6078",
   "metadata": {},
   "outputs": [],
   "source": [
    "\n",
    "class student :\n",
    "    counter = 0\n",
    "    # constructor\n",
    "    def __init__(self, name, fathersname, age):\n",
    "        self.name = name\n",
    "        self.fathersname = fathersname\n",
    "        self.age = age\n",
    "        student.counter +=1\n",
    "        self._roll_no = 'A2022/{}/{:003d}'.format(self.name[:3].upper() ,student.counter)\n",
    "        self.__file_no = 'A2022/{}/{:003d}'.format(self.name.upper() ,student.counter)\n",
    "    def print_info(self):\n",
    "        print('Name          : ', self.name)\n",
    "        print(\"Father's Name : \",self.fathersname )\n",
    "        print(\"Age           : \", self.age)\n",
    "        print(\"Roll No.      : \", self._roll_no)\n",
    "        print(\"File No.      : \", self.__file_no)"
   ]
  },
  {
   "cell_type": "code",
   "execution_count": null,
   "id": "c89d9389",
   "metadata": {},
   "outputs": [],
   "source": [
    "st1 = student('John Davis', 'Malcom Davis', 10)"
   ]
  },
  {
   "cell_type": "code",
   "execution_count": null,
   "id": "882293d2",
   "metadata": {},
   "outputs": [],
   "source": [
    "st1.print_info()"
   ]
  },
  {
   "cell_type": "code",
   "execution_count": null,
   "id": "6a48e92c",
   "metadata": {},
   "outputs": [],
   "source": [
    "class science(student):\n",
    "    def display(self):\n",
    "        print('Name          : ', self.name)\n",
    "        print(\"Father's Name : \",self.fathersname )\n",
    "        print(\"Age           : \", self.age)\n",
    "        print(\"Roll No.      : \", self._roll_no)\n",
    "        print(\"File No.      : \", self.__file_no)\n",
    "        "
   ]
  },
  {
   "cell_type": "code",
   "execution_count": null,
   "id": "e4744d58",
   "metadata": {},
   "outputs": [],
   "source": [
    "sci_st = science('John Davis', 'Malcom Davis', 15)"
   ]
  },
  {
   "cell_type": "code",
   "execution_count": null,
   "id": "7f71f71e",
   "metadata": {},
   "outputs": [],
   "source": [
    "sci_st.print_info()"
   ]
  },
  {
   "cell_type": "code",
   "execution_count": null,
   "id": "7cf190a6",
   "metadata": {},
   "outputs": [],
   "source": [
    "sci_st.display()"
   ]
  },
  {
   "cell_type": "code",
   "execution_count": null,
   "id": "fe017ec3",
   "metadata": {},
   "outputs": [],
   "source": []
  },
  {
   "cell_type": "code",
   "execution_count": null,
   "id": "27fc7381",
   "metadata": {},
   "outputs": [],
   "source": []
  },
  {
   "cell_type": "markdown",
   "id": "2238a65d",
   "metadata": {},
   "source": [
    "# Inheritance"
   ]
  },
  {
   "cell_type": "code",
   "execution_count": null,
   "id": "fea3f6fb",
   "metadata": {},
   "outputs": [],
   "source": [
    "class Parent :\n",
    "    def __init__(self):\n",
    "        print('Welcome to Parent Class')\n",
    "    \n",
    "    def parent_func(self):\n",
    "        print('This is the parent Function')    "
   ]
  },
  {
   "cell_type": "code",
   "execution_count": null,
   "id": "cd5ff07a",
   "metadata": {},
   "outputs": [],
   "source": [
    "class Child(Parent):\n",
    "    pass"
   ]
  },
  {
   "cell_type": "code",
   "execution_count": null,
   "id": "8e1bbcac",
   "metadata": {},
   "outputs": [],
   "source": [
    "obj = Child()"
   ]
  },
  {
   "cell_type": "code",
   "execution_count": null,
   "id": "5c3990b5",
   "metadata": {},
   "outputs": [],
   "source": [
    "obj.parent_func()"
   ]
  },
  {
   "cell_type": "markdown",
   "id": "e8608ffe",
   "metadata": {},
   "source": [
    "## Types of Inheritance"
   ]
  },
  {
   "cell_type": "markdown",
   "id": "f33fd783",
   "metadata": {},
   "source": [
    "### Single Inheritance"
   ]
  },
  {
   "cell_type": "code",
   "execution_count": null,
   "id": "ba18336e",
   "metadata": {},
   "outputs": [],
   "source": [
    "# base class\n",
    "class information:\n",
    "    def __init__(self, name, age, gender):\n",
    "        self.name = name\n",
    "        self.age = age\n",
    "        self.gender = gender\n",
    "    \n",
    "    def print_info(self):\n",
    "        print('Name   : ', self.name)\n",
    "        print('Age    : ', self.age)\n",
    "        print('Gender : ', self.gender)"
   ]
  },
  {
   "cell_type": "code",
   "execution_count": null,
   "id": "fb75c860",
   "metadata": {},
   "outputs": [],
   "source": [
    "# derived class\n",
    "class learners(information):\n",
    "    def set_learner_data(self, exp = None, qual = None):\n",
    "        self.qual = qual\n",
    "        self.exp = exp\n",
    "   \n",
    "    def display(self):\n",
    "        self.print_info()\n",
    "        print('Qual   : ', self.qual)\n",
    "        print('Exp    : ', self.exp)\n",
    "    "
   ]
  },
  {
   "cell_type": "code",
   "execution_count": null,
   "id": "a8060a69",
   "metadata": {},
   "outputs": [],
   "source": [
    "obj1 = learners('John Davis', 34, 'M')"
   ]
  },
  {
   "cell_type": "code",
   "execution_count": null,
   "id": "5f488ca4",
   "metadata": {},
   "outputs": [],
   "source": [
    "obj1.print_info()"
   ]
  },
  {
   "cell_type": "code",
   "execution_count": null,
   "id": "17eebb87",
   "metadata": {},
   "outputs": [],
   "source": [
    "obj1.set_learner_data(5, 'Graduate')"
   ]
  },
  {
   "cell_type": "code",
   "execution_count": null,
   "id": "7d14bedd",
   "metadata": {},
   "outputs": [],
   "source": [
    "obj1.display()"
   ]
  },
  {
   "cell_type": "markdown",
   "id": "d4fe9730",
   "metadata": {},
   "source": [
    "# Multilevel Inheritance"
   ]
  },
  {
   "cell_type": "code",
   "execution_count": null,
   "id": "a81453ef",
   "metadata": {},
   "outputs": [],
   "source": [
    "# base class\n",
    "class information:\n",
    "    def __init__(self, name, age, gender):\n",
    "        self.name = name\n",
    "        self.age = age\n",
    "        self.gender = gender\n",
    "    \n",
    "    def print_info(self):\n",
    "        print('Name   : ', self.name)\n",
    "        print('Age    : ', self.age)\n",
    "        print('Gender : ', self.gender)"
   ]
  },
  {
   "cell_type": "code",
   "execution_count": null,
   "id": "38960b67",
   "metadata": {},
   "outputs": [],
   "source": [
    "# derived class\n",
    "class learners(information):\n",
    "    def set_learner_data(self, exp = None, qual = None):\n",
    "        self.qual = qual\n",
    "        self.exp = exp\n",
    "   \n",
    "    def display(self):\n",
    "        self.print_info()\n",
    "        print('Qual   : ', self.qual)\n",
    "        print('Exp    : ', self.exp)"
   ]
  },
  {
   "cell_type": "code",
   "execution_count": null,
   "id": "9d8a67c1",
   "metadata": {},
   "outputs": [],
   "source": [
    "class profile(learners) :\n",
    "    pass"
   ]
  },
  {
   "cell_type": "code",
   "execution_count": null,
   "id": "ee50710f",
   "metadata": {},
   "outputs": [],
   "source": [
    "obj_2 = profile('John Davis', 34, 'M')"
   ]
  },
  {
   "cell_type": "code",
   "execution_count": null,
   "id": "1b270874",
   "metadata": {},
   "outputs": [],
   "source": [
    "obj_2.print_info()"
   ]
  },
  {
   "cell_type": "code",
   "execution_count": null,
   "id": "812a5572",
   "metadata": {},
   "outputs": [],
   "source": [
    "obj_2.set_learner_data(3, 'Graduate')"
   ]
  },
  {
   "cell_type": "code",
   "execution_count": null,
   "id": "dbe0a7f7",
   "metadata": {},
   "outputs": [],
   "source": [
    "obj_2.display()"
   ]
  },
  {
   "cell_type": "markdown",
   "id": "396cdba4",
   "metadata": {},
   "source": [
    "## Hierarchical Inheritance"
   ]
  },
  {
   "cell_type": "code",
   "execution_count": null,
   "id": "b6eb9198",
   "metadata": {},
   "outputs": [],
   "source": [
    "# base class\n",
    "class information:\n",
    "    def __init__(self, name, age, gender):\n",
    "        self.name = name\n",
    "        self.age = age\n",
    "        self.gender = gender\n",
    "    \n",
    "    def print_info(self):\n",
    "        print('Name   : ', self.name)\n",
    "        print('Age    : ', self.age)\n",
    "        print('Gender : ', self.gender)"
   ]
  },
  {
   "cell_type": "code",
   "execution_count": null,
   "id": "82b5640b",
   "metadata": {},
   "outputs": [],
   "source": [
    "# derived class 1\n",
    "class learners(information):\n",
    "    def set_learner_data(self, exp = None, qual = None):\n",
    "        self.qual = qual\n",
    "        self.exp = exp\n",
    "   \n",
    "    def display(self):\n",
    "        self.print_info()\n",
    "        print('Qual   : ', self.qual)\n",
    "        print('Exp    : ', self.exp)"
   ]
  },
  {
   "cell_type": "code",
   "execution_count": null,
   "id": "12a076ea",
   "metadata": {},
   "outputs": [],
   "source": [
    "# derived class 2\n",
    "class trainer(information):\n",
    "    def set_trainer_data(self, exp, charges ):\n",
    "        self.exp = exp\n",
    "        self.charges = charges\n",
    "    \n",
    "    def display_trainer(self):\n",
    "        self.print_info()\n",
    "        print('Experience        : ', self.exp)\n",
    "        print('Hourly Charges    : ', self.charges)"
   ]
  },
  {
   "cell_type": "code",
   "execution_count": null,
   "id": "38ba226a",
   "metadata": {},
   "outputs": [],
   "source": [
    "obj_learner = learners('John Davis', 21, 'M')\n",
    "obj_learner.set_learner_data(3, 'Graduate')"
   ]
  },
  {
   "cell_type": "code",
   "execution_count": null,
   "id": "c9c6cf9a",
   "metadata": {},
   "outputs": [],
   "source": [
    "obj_learner.print_info()"
   ]
  },
  {
   "cell_type": "code",
   "execution_count": null,
   "id": "bc1a3d83",
   "metadata": {},
   "outputs": [],
   "source": [
    "obj_learner.display()"
   ]
  },
  {
   "cell_type": "code",
   "execution_count": null,
   "id": "175ad473",
   "metadata": {},
   "outputs": [],
   "source": [
    "obj_trainer = trainer('Michael Dave', 43, 'Doctrate')\n",
    "obj_trainer.set_trainer_data(15, 3500)"
   ]
  },
  {
   "cell_type": "code",
   "execution_count": null,
   "id": "cc9fa70b",
   "metadata": {},
   "outputs": [],
   "source": [
    "obj_trainer.print_info()"
   ]
  },
  {
   "cell_type": "code",
   "execution_count": null,
   "id": "d8595dfe",
   "metadata": {},
   "outputs": [],
   "source": [
    "obj_trainer.display_trainer()"
   ]
  },
  {
   "cell_type": "markdown",
   "id": "5ae71ee4",
   "metadata": {},
   "source": [
    "## Multiple Inheritance"
   ]
  },
  {
   "cell_type": "code",
   "execution_count": null,
   "id": "102c8055",
   "metadata": {},
   "outputs": [],
   "source": [
    "# base class 1\n",
    "class information:\n",
    "    def __init__(self, name, age, gender):\n",
    "        self.name = name\n",
    "        self.age = age\n",
    "        self.gender = gender\n",
    "    \n",
    "    def print_info(self):\n",
    "        print('Name   : ', self.name)\n",
    "        print('Age    : ', self.age)\n",
    "        print('Gender : ', self.gender)"
   ]
  },
  {
   "cell_type": "code",
   "execution_count": null,
   "id": "22893487",
   "metadata": {},
   "outputs": [],
   "source": [
    "# base class 2\n",
    "class course_inf:\n",
    "    def __init__(self):\n",
    "        self.inf = {'Weekend' : {'Big Data & AI':12, \n",
    "                                'Cloud Computing' : 8,\n",
    "                                'Data Science with Python' :6,\n",
    "                                'Data Science with R' : 5 },\n",
    "                   'Weekday' : {'Big Data & AI':6, \n",
    "                                'Cloud Computing' : 5,\n",
    "                                'Data Science with Python': 3,\n",
    "                                'Data Science with R' : 2.5 }}"
   ]
  },
  {
   "cell_type": "code",
   "execution_count": null,
   "id": "e50faf33",
   "metadata": {},
   "outputs": [],
   "source": [
    "# derived class\n",
    "class learners(information, course_inf):\n",
    "    \n",
    "    def __init__(self,name, age, gender,course, pref):\n",
    "        information.__init__(self, name, age, gender)\n",
    "        course_inf.__init__(self)\n",
    "        self.course = course\n",
    "        self.pref = pref\n",
    "        \n",
    "    def display(self):\n",
    "        information.print_info(self)\n",
    "        print('Course : ', self.course)\n",
    "        print('Pref   : ', self.pref)\n",
    "        weeks = self.inf[self.pref][self.course]\n",
    "        print('# of Weeks : ', weeks)"
   ]
  },
  {
   "cell_type": "code",
   "execution_count": null,
   "id": "ed2bd2fc",
   "metadata": {},
   "outputs": [],
   "source": [
    "obj_learn = learners('Ava Jones', 33, 'F', 'Data Science with R', 'Weekend')\n",
    "\n",
    "obj_learn.display()"
   ]
  },
  {
   "cell_type": "code",
   "execution_count": null,
   "id": "74fea85e",
   "metadata": {},
   "outputs": [],
   "source": [
    "obj_learn.inf"
   ]
  },
  {
   "cell_type": "markdown",
   "id": "7d893d95",
   "metadata": {},
   "source": [
    "# "
   ]
  },
  {
   "cell_type": "markdown",
   "id": "b3a59ac9",
   "metadata": {},
   "source": [
    "# "
   ]
  },
  {
   "cell_type": "markdown",
   "id": "695a8a68",
   "metadata": {},
   "source": [
    "# Polymorphism\n",
    "## Method Overloading"
   ]
  },
  {
   "cell_type": "code",
   "execution_count": null,
   "id": "c82e18d4",
   "metadata": {},
   "outputs": [],
   "source": [
    "class information:\n",
    "    def __init__(self, name, age, gender):\n",
    "        self.name = name\n",
    "        self.age = age\n",
    "        self.gender = gender\n",
    "    \n",
    "    def print_info(self):\n",
    "        print('Name   : ', self.name)\n",
    "        print('Age    : ', self.age)\n",
    "        print('Gender : ', self.gender)"
   ]
  },
  {
   "cell_type": "code",
   "execution_count": null,
   "id": "c89986cb",
   "metadata": {},
   "outputs": [],
   "source": [
    "class learners:\n",
    "    def __init__(self, name, age, gender, exp, qual):\n",
    "        self.name = name\n",
    "        self.age = age\n",
    "        self.gender = gender\n",
    "        self.qual = qual\n",
    "        self.exp = exp\n",
    "   \n",
    "    def print_info(self):\n",
    "        print('Name\\t: ', self.name)\n",
    "        print('Age\\t: ', self.age)\n",
    "        print('Gender\\t: ', self.gender)\n",
    "        print('Qual   : ', self.qual)\n",
    "        print('Exp    : ', self.exp)"
   ]
  },
  {
   "cell_type": "code",
   "execution_count": null,
   "id": "e9cffae1",
   "metadata": {},
   "outputs": [],
   "source": [
    "obj1 = information('John Davis', 34, 'M' )\n",
    "obj2 = learners('John Davis', 34, 'M', 3.5, 'Graduate')"
   ]
  },
  {
   "cell_type": "code",
   "execution_count": null,
   "id": "f96556cd",
   "metadata": {},
   "outputs": [],
   "source": [
    "obj1.print_info()"
   ]
  },
  {
   "cell_type": "code",
   "execution_count": null,
   "id": "241f2e78",
   "metadata": {},
   "outputs": [],
   "source": [
    "obj2.print_info()"
   ]
  },
  {
   "cell_type": "markdown",
   "id": "e954c947",
   "metadata": {},
   "source": [
    "## Operator Overloading"
   ]
  },
  {
   "cell_type": "code",
   "execution_count": null,
   "id": "4b94c379",
   "metadata": {},
   "outputs": [],
   "source": [
    "x = 8; y = 15\n",
    "x + y"
   ]
  },
  {
   "cell_type": "code",
   "execution_count": null,
   "id": "9c699252",
   "metadata": {},
   "outputs": [],
   "source": [
    "x = 'FirstName' \n",
    "y = 'LastName'\n",
    "x + ' ' + y"
   ]
  },
  {
   "cell_type": "markdown",
   "id": "e31a8baa",
   "metadata": {},
   "source": [
    "## Method Overriding"
   ]
  },
  {
   "cell_type": "code",
   "execution_count": null,
   "id": "390f9e6b",
   "metadata": {},
   "outputs": [],
   "source": [
    "class information:\n",
    "    def __init__(self, name, age, gender):\n",
    "        self.name = name\n",
    "        self.age = age\n",
    "        self.gender = gender\n",
    "    \n",
    "    def print_info(self):\n",
    "        print('Name   : ', self.name)\n",
    "        print('Age    : ', self.age)\n",
    "        print('Gender : ', self.gender)"
   ]
  },
  {
   "cell_type": "code",
   "execution_count": null,
   "id": "0f9f5583",
   "metadata": {},
   "outputs": [],
   "source": [
    "class learners(information):\n",
    "    def __init__(self, name, age, gender, exp, qual):\n",
    "        information.__init__(self, name, age, gender)\n",
    "        self.qual = qual\n",
    "        self.exp = exp\n",
    "   \n",
    "    def print_info(self):\n",
    "        '''print_info function of derived class overrides the print_info function of parent class'''\n",
    "        print('Qual   : ', self.qual)\n",
    "        print('Exp    : ', self.exp)"
   ]
  },
  {
   "cell_type": "code",
   "execution_count": null,
   "id": "341b952a",
   "metadata": {},
   "outputs": [],
   "source": [
    "obj = learners('John Davis', 45, 'M', 4.5, 'Graduate')"
   ]
  },
  {
   "cell_type": "code",
   "execution_count": null,
   "id": "76b2ae2d",
   "metadata": {},
   "outputs": [],
   "source": [
    "obj.print_info()"
   ]
  },
  {
   "cell_type": "code",
   "execution_count": null,
   "id": "9dcf4159",
   "metadata": {},
   "outputs": [],
   "source": [
    "class learners(information):\n",
    "    def __init__(self, name, age, gender, exp, qual):\n",
    "        information.__init__(self, name, age, gender)\n",
    "        self.qual = qual\n",
    "        self.exp = exp\n",
    "   \n",
    "    def print_info(self):\n",
    "        '''\n",
    "        print_info function of derived class overrides the print_info function of parent class. \n",
    "        To use the print ifno function of parent class, the function needs to be invoked explicitly.\n",
    "        '''\n",
    "        information.print_info(self)\n",
    "        print('Qual   : ', self.qual)\n",
    "        print('Exp    : ', self.exp)"
   ]
  },
  {
   "cell_type": "code",
   "execution_count": null,
   "id": "df5f3db4",
   "metadata": {},
   "outputs": [],
   "source": [
    "obj = learners('John Davis', 45, 'M', 4.5, 'Graduate')"
   ]
  },
  {
   "cell_type": "code",
   "execution_count": null,
   "id": "2e72fb90",
   "metadata": {},
   "outputs": [],
   "source": [
    "obj.print_info()"
   ]
  },
  {
   "cell_type": "code",
   "execution_count": null,
   "id": "374f25d3",
   "metadata": {},
   "outputs": [],
   "source": []
  },
  {
   "cell_type": "code",
   "execution_count": null,
   "id": "0af2de19",
   "metadata": {},
   "outputs": [],
   "source": []
  },
  {
   "cell_type": "markdown",
   "id": "074cbf38",
   "metadata": {},
   "source": [
    "# "
   ]
  },
  {
   "cell_type": "markdown",
   "id": "efe8b1cb",
   "metadata": {},
   "source": [
    "# "
   ]
  },
  {
   "cell_type": "markdown",
   "id": "8975805b",
   "metadata": {},
   "source": [
    "# Abstraction "
   ]
  },
  {
   "cell_type": "code",
   "execution_count": 1,
   "id": "e15848fe",
   "metadata": {},
   "outputs": [],
   "source": [
    "from abc import abstractmethod, ABC"
   ]
  },
  {
   "cell_type": "code",
   "execution_count": 2,
   "id": "8876c59e",
   "metadata": {},
   "outputs": [],
   "source": [
    "class beverage(ABC):\n",
    "    @abstractmethod\n",
    "    def ingredients(self):\n",
    "        print('base')\n",
    "    def taste(self):\n",
    "        pass"
   ]
  },
  {
   "cell_type": "code",
   "execution_count": 3,
   "id": "1c0d96a6",
   "metadata": {},
   "outputs": [
    {
     "ename": "TypeError",
     "evalue": "Can't instantiate abstract class beverage with abstract methods ingredients",
     "output_type": "error",
     "traceback": [
      "\u001b[0;31m---------------------------------------------------------------------------\u001b[0m",
      "\u001b[0;31mTypeError\u001b[0m                                 Traceback (most recent call last)",
      "\u001b[0;32m<ipython-input-3-570ae97a100b>\u001b[0m in \u001b[0;36m<module>\u001b[0;34m\u001b[0m\n\u001b[0;32m----> 1\u001b[0;31m \u001b[0mobj\u001b[0m \u001b[0;34m=\u001b[0m \u001b[0mbeverage\u001b[0m\u001b[0;34m(\u001b[0m\u001b[0;34m)\u001b[0m\u001b[0;34m\u001b[0m\u001b[0;34m\u001b[0m\u001b[0m\n\u001b[0m",
      "\u001b[0;31mTypeError\u001b[0m: Can't instantiate abstract class beverage with abstract methods ingredients"
     ]
    }
   ],
   "source": [
    "obj = beverage()"
   ]
  },
  {
   "cell_type": "code",
   "execution_count": 4,
   "id": "bf257e31",
   "metadata": {},
   "outputs": [],
   "source": [
    "# derived class 1\n",
    "class mango_shake(beverage):\n",
    "    def ingredients(self):\n",
    "        print('Mango, Milk and Sugar')\n",
    "        \n",
    "    def taste(self):\n",
    "        print('Yumm!!')"
   ]
  },
  {
   "cell_type": "code",
   "execution_count": 5,
   "id": "a791addd",
   "metadata": {},
   "outputs": [],
   "source": [
    "# derived class 1\n",
    "class orange_juice(beverage):\n",
    "    def ingredients(self):\n",
    "        print('Orange, Water and Sugar')\n",
    "        \n",
    "    def taste(self):\n",
    "        print('Sweet!!')"
   ]
  },
  {
   "cell_type": "code",
   "execution_count": 6,
   "id": "e1ecc9f1",
   "metadata": {},
   "outputs": [
    {
     "name": "stdout",
     "output_type": "stream",
     "text": [
      "Mango, Milk and Sugar\n",
      "Yumm!!\n"
     ]
    }
   ],
   "source": [
    "obj1 = mango_shake()\n",
    "obj1.ingredients()\n",
    "obj1.taste()"
   ]
  },
  {
   "cell_type": "code",
   "execution_count": 7,
   "id": "044f53df",
   "metadata": {},
   "outputs": [
    {
     "name": "stdout",
     "output_type": "stream",
     "text": [
      "Orange, Water and Sugar\n",
      "Sweet!!\n"
     ]
    }
   ],
   "source": [
    "obj2 = orange_juice()\n",
    "obj2.ingredients()\n",
    "obj2.taste()"
   ]
  },
  {
   "cell_type": "code",
   "execution_count": null,
   "id": "5c1cba1c",
   "metadata": {},
   "outputs": [],
   "source": []
  }
 ],
 "metadata": {
  "kernelspec": {
   "display_name": "Python 3 (ipykernel)",
   "language": "python",
   "name": "python3"
  },
  "language_info": {
   "codemirror_mode": {
    "name": "ipython",
    "version": 3
   },
   "file_extension": ".py",
   "mimetype": "text/x-python",
   "name": "python",
   "nbconvert_exporter": "python",
   "pygments_lexer": "ipython3",
   "version": "3.11.6"
  }
 },
 "nbformat": 4,
 "nbformat_minor": 5
}
